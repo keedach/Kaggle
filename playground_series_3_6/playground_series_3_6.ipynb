{
 "cells": [
  {
   "cell_type": "markdown",
   "metadata": {},
   "source": [
    "# Playground Series - Season 3, Episode 6"
   ]
  },
  {
   "cell_type": "markdown",
   "metadata": {},
   "source": [
    "**Dataset Description**\n",
    "\n",
    "The dataset (both train and test) was generated from a deep learning model trained on the Paris Housing Price Prediction. Feature distributions are close to, but not exactly the same, as the original.\n",
    "\n",
    "**Files**\n",
    "\n",
    "* **train.csv** - the training dataset; price is the target\n",
    "* **test.csv** - the test dataset; your objective is to predict price\n",
    "* **sample_submission.csv** - a sample submission file in the correct format"
   ]
  },
  {
   "cell_type": "markdown",
   "metadata": {},
   "source": [
    "**Description**\n",
    "\n",
    "* **squareMeters**\n",
    "* **numberOfRooms**\n",
    "* **hasYard**\n",
    "* **hasPool**\n",
    "* **floors** - number of floors\n",
    "* **cityCode** - zip code\n",
    "* **cityPartRange** - the higher the range, the more exclusive the neighbourhood is\n",
    "* **numPrevOwners** - number of prevoious owners\n",
    "* **made** - year\n",
    "* **isNewBuilt**\n",
    "* **hasStormProtector**\n",
    "* **basement** - basement square meters\n",
    "* **attic** - attic square meteres\n",
    "* **garage** - garage size\n",
    "* **hasStorageRoom**\n",
    "* **hasGuestRoom** - number of guest rooms\n",
    "* **price** - predicted value"
   ]
  },
  {
   "cell_type": "code",
   "execution_count": 1,
   "metadata": {},
   "outputs": [],
   "source": [
    "import pandas as pd\n",
    "import numpy as np\n",
    "import matplotlib.pyplot as plt\n",
    "import seaborn as sns\n",
    "\n",
    "\n",
    "from pathlib import Path"
   ]
  },
  {
   "cell_type": "markdown",
   "metadata": {},
   "source": [
    "## Functions"
   ]
  },
  {
   "cell_type": "code",
   "execution_count": 2,
   "metadata": {},
   "outputs": [],
   "source": [
    "# функция для преобразования названий столбцов из CamelCase в snake_case\n",
    "def camel_to_snake(data):\n",
    "    col = []\n",
    "    for row in data.columns:\n",
    "        index = [i for i, c in enumerate(row) if c.isupper()]\n",
    "        count = -1\n",
    "        y=0\n",
    "        for i in index:\n",
    "            if (i!=0) and (i!=y):\n",
    "                count += 1\n",
    "                row = row[:i+count] + '_' + row[i+count:]\n",
    "            y=i+1\n",
    "        col.append(row.lower())\n",
    "    return col"
   ]
  },
  {
   "cell_type": "code",
   "execution_count": 82,
   "metadata": {},
   "outputs": [],
   "source": [
    "# функция для описательной статистики\n",
    "def column_stat(data, column):\n",
    "\n",
    "    title = [x for x in globals() if globals()[x] is data][0] + ' data'\n",
    "    display(title)\n",
    "    display(data[column].describe())\n",
    "    \n",
    "    fig, ax =plt.subplots(1,2)\n",
    "\n",
    "    sns.histplot(data=data, x=column, ax=ax[0]).set(title=title)\n",
    "\n",
    "    sns.boxplot(data=data, x=column, ax=ax[1]).set(title=title)\n",
    "    fig.set_size_inches(14,4)\n",
    "    return\n"
   ]
  },
  {
   "cell_type": "code",
   "execution_count": 4,
   "metadata": {},
   "outputs": [],
   "source": [
    "# функция для бинарных колонок\n",
    "def bool_col(data, column):\n",
    "    t = [x for x in globals() if globals()[x] is data][0]\n",
    "    print(f'Доля True в {t}: {round(data[column].mean(), 2)}')"
   ]
  },
  {
   "cell_type": "markdown",
   "metadata": {},
   "source": [
    "## Загрузка данных"
   ]
  },
  {
   "cell_type": "code",
   "execution_count": 5,
   "metadata": {},
   "outputs": [],
   "source": [
    "def open_file(name):\n",
    "    try:\n",
    "        return pd.read_csv(\n",
    "            Path('C:/Users/Счастливый/Desktop/project/playground_series_3_6/' + name)\n",
    "            )\n",
    "    except:\n",
    "        print('Error!')"
   ]
  },
  {
   "cell_type": "code",
   "execution_count": 6,
   "metadata": {},
   "outputs": [],
   "source": [
    "train = open_file('train.csv')\n",
    "test = open_file('test.csv')\n",
    "sample_submission = open_file('sample_submission.csv')\n",
    "original = open_file('ParisHousing.csv')"
   ]
  },
  {
   "cell_type": "code",
   "execution_count": 7,
   "metadata": {},
   "outputs": [
    {
     "data": {
      "text/html": [
       "<div>\n",
       "<style scoped>\n",
       "    .dataframe tbody tr th:only-of-type {\n",
       "        vertical-align: middle;\n",
       "    }\n",
       "\n",
       "    .dataframe tbody tr th {\n",
       "        vertical-align: top;\n",
       "    }\n",
       "\n",
       "    .dataframe thead th {\n",
       "        text-align: right;\n",
       "    }\n",
       "</style>\n",
       "<table border=\"1\" class=\"dataframe\">\n",
       "  <thead>\n",
       "    <tr style=\"text-align: right;\">\n",
       "      <th></th>\n",
       "      <th>id</th>\n",
       "      <th>squareMeters</th>\n",
       "      <th>numberOfRooms</th>\n",
       "      <th>hasYard</th>\n",
       "      <th>hasPool</th>\n",
       "      <th>floors</th>\n",
       "      <th>cityCode</th>\n",
       "      <th>cityPartRange</th>\n",
       "      <th>numPrevOwners</th>\n",
       "      <th>made</th>\n",
       "      <th>isNewBuilt</th>\n",
       "      <th>hasStormProtector</th>\n",
       "      <th>basement</th>\n",
       "      <th>attic</th>\n",
       "      <th>garage</th>\n",
       "      <th>hasStorageRoom</th>\n",
       "      <th>hasGuestRoom</th>\n",
       "      <th>price</th>\n",
       "    </tr>\n",
       "  </thead>\n",
       "  <tbody>\n",
       "    <tr>\n",
       "      <th>0</th>\n",
       "      <td>0</td>\n",
       "      <td>34291</td>\n",
       "      <td>24</td>\n",
       "      <td>1</td>\n",
       "      <td>0</td>\n",
       "      <td>47</td>\n",
       "      <td>35693</td>\n",
       "      <td>2</td>\n",
       "      <td>1</td>\n",
       "      <td>2000</td>\n",
       "      <td>0</td>\n",
       "      <td>1</td>\n",
       "      <td>8</td>\n",
       "      <td>5196</td>\n",
       "      <td>369</td>\n",
       "      <td>0</td>\n",
       "      <td>3</td>\n",
       "      <td>3436795.2</td>\n",
       "    </tr>\n",
       "    <tr>\n",
       "      <th>1</th>\n",
       "      <td>1</td>\n",
       "      <td>95145</td>\n",
       "      <td>60</td>\n",
       "      <td>0</td>\n",
       "      <td>1</td>\n",
       "      <td>60</td>\n",
       "      <td>34773</td>\n",
       "      <td>1</td>\n",
       "      <td>4</td>\n",
       "      <td>2000</td>\n",
       "      <td>0</td>\n",
       "      <td>1</td>\n",
       "      <td>729</td>\n",
       "      <td>4496</td>\n",
       "      <td>277</td>\n",
       "      <td>0</td>\n",
       "      <td>6</td>\n",
       "      <td>9519958.0</td>\n",
       "    </tr>\n",
       "    <tr>\n",
       "      <th>2</th>\n",
       "      <td>2</td>\n",
       "      <td>92661</td>\n",
       "      <td>45</td>\n",
       "      <td>1</td>\n",
       "      <td>1</td>\n",
       "      <td>62</td>\n",
       "      <td>45457</td>\n",
       "      <td>4</td>\n",
       "      <td>8</td>\n",
       "      <td>2020</td>\n",
       "      <td>1</td>\n",
       "      <td>1</td>\n",
       "      <td>7473</td>\n",
       "      <td>8953</td>\n",
       "      <td>245</td>\n",
       "      <td>1</td>\n",
       "      <td>9</td>\n",
       "      <td>9276448.1</td>\n",
       "    </tr>\n",
       "  </tbody>\n",
       "</table>\n",
       "</div>"
      ],
      "text/plain": [
       "   id  squareMeters  numberOfRooms  hasYard  hasPool  floors  cityCode  \\\n",
       "0   0         34291             24        1        0      47     35693   \n",
       "1   1         95145             60        0        1      60     34773   \n",
       "2   2         92661             45        1        1      62     45457   \n",
       "\n",
       "   cityPartRange  numPrevOwners  made  isNewBuilt  hasStormProtector  \\\n",
       "0              2              1  2000           0                  1   \n",
       "1              1              4  2000           0                  1   \n",
       "2              4              8  2020           1                  1   \n",
       "\n",
       "   basement  attic  garage  hasStorageRoom  hasGuestRoom      price  \n",
       "0         8   5196     369               0             3  3436795.2  \n",
       "1       729   4496     277               0             6  9519958.0  \n",
       "2      7473   8953     245               1             9  9276448.1  "
      ]
     },
     "execution_count": 7,
     "metadata": {},
     "output_type": "execute_result"
    }
   ],
   "source": [
    "train.head(3)"
   ]
  },
  {
   "cell_type": "code",
   "execution_count": 8,
   "metadata": {},
   "outputs": [
    {
     "data": {
      "text/html": [
       "<div>\n",
       "<style scoped>\n",
       "    .dataframe tbody tr th:only-of-type {\n",
       "        vertical-align: middle;\n",
       "    }\n",
       "\n",
       "    .dataframe tbody tr th {\n",
       "        vertical-align: top;\n",
       "    }\n",
       "\n",
       "    .dataframe thead th {\n",
       "        text-align: right;\n",
       "    }\n",
       "</style>\n",
       "<table border=\"1\" class=\"dataframe\">\n",
       "  <thead>\n",
       "    <tr style=\"text-align: right;\">\n",
       "      <th></th>\n",
       "      <th>id</th>\n",
       "      <th>squareMeters</th>\n",
       "      <th>numberOfRooms</th>\n",
       "      <th>hasYard</th>\n",
       "      <th>hasPool</th>\n",
       "      <th>floors</th>\n",
       "      <th>cityCode</th>\n",
       "      <th>cityPartRange</th>\n",
       "      <th>numPrevOwners</th>\n",
       "      <th>made</th>\n",
       "      <th>isNewBuilt</th>\n",
       "      <th>hasStormProtector</th>\n",
       "      <th>basement</th>\n",
       "      <th>attic</th>\n",
       "      <th>garage</th>\n",
       "      <th>hasStorageRoom</th>\n",
       "      <th>hasGuestRoom</th>\n",
       "    </tr>\n",
       "  </thead>\n",
       "  <tbody>\n",
       "    <tr>\n",
       "      <th>0</th>\n",
       "      <td>22730</td>\n",
       "      <td>47580</td>\n",
       "      <td>89</td>\n",
       "      <td>0</td>\n",
       "      <td>1</td>\n",
       "      <td>8</td>\n",
       "      <td>54830</td>\n",
       "      <td>5</td>\n",
       "      <td>3</td>\n",
       "      <td>1995</td>\n",
       "      <td>0</td>\n",
       "      <td>0</td>\n",
       "      <td>6885</td>\n",
       "      <td>8181</td>\n",
       "      <td>241</td>\n",
       "      <td>0</td>\n",
       "      <td>8</td>\n",
       "    </tr>\n",
       "    <tr>\n",
       "      <th>1</th>\n",
       "      <td>22731</td>\n",
       "      <td>62083</td>\n",
       "      <td>38</td>\n",
       "      <td>0</td>\n",
       "      <td>0</td>\n",
       "      <td>87</td>\n",
       "      <td>8576</td>\n",
       "      <td>10</td>\n",
       "      <td>3</td>\n",
       "      <td>1994</td>\n",
       "      <td>1</td>\n",
       "      <td>1</td>\n",
       "      <td>4601</td>\n",
       "      <td>9237</td>\n",
       "      <td>393</td>\n",
       "      <td>1</td>\n",
       "      <td>4</td>\n",
       "    </tr>\n",
       "    <tr>\n",
       "      <th>2</th>\n",
       "      <td>22732</td>\n",
       "      <td>90499</td>\n",
       "      <td>75</td>\n",
       "      <td>1</td>\n",
       "      <td>1</td>\n",
       "      <td>37</td>\n",
       "      <td>62454</td>\n",
       "      <td>9</td>\n",
       "      <td>6</td>\n",
       "      <td>1997</td>\n",
       "      <td>0</td>\n",
       "      <td>1</td>\n",
       "      <td>7454</td>\n",
       "      <td>2680</td>\n",
       "      <td>305</td>\n",
       "      <td>0</td>\n",
       "      <td>2</td>\n",
       "    </tr>\n",
       "  </tbody>\n",
       "</table>\n",
       "</div>"
      ],
      "text/plain": [
       "      id  squareMeters  numberOfRooms  hasYard  hasPool  floors  cityCode  \\\n",
       "0  22730         47580             89        0        1       8     54830   \n",
       "1  22731         62083             38        0        0      87      8576   \n",
       "2  22732         90499             75        1        1      37     62454   \n",
       "\n",
       "   cityPartRange  numPrevOwners  made  isNewBuilt  hasStormProtector  \\\n",
       "0              5              3  1995           0                  0   \n",
       "1             10              3  1994           1                  1   \n",
       "2              9              6  1997           0                  1   \n",
       "\n",
       "   basement  attic  garage  hasStorageRoom  hasGuestRoom  \n",
       "0      6885   8181     241               0             8  \n",
       "1      4601   9237     393               1             4  \n",
       "2      7454   2680     305               0             2  "
      ]
     },
     "execution_count": 8,
     "metadata": {},
     "output_type": "execute_result"
    }
   ],
   "source": [
    "test.head(3)"
   ]
  },
  {
   "cell_type": "code",
   "execution_count": 9,
   "metadata": {},
   "outputs": [
    {
     "data": {
      "text/html": [
       "<div>\n",
       "<style scoped>\n",
       "    .dataframe tbody tr th:only-of-type {\n",
       "        vertical-align: middle;\n",
       "    }\n",
       "\n",
       "    .dataframe tbody tr th {\n",
       "        vertical-align: top;\n",
       "    }\n",
       "\n",
       "    .dataframe thead th {\n",
       "        text-align: right;\n",
       "    }\n",
       "</style>\n",
       "<table border=\"1\" class=\"dataframe\">\n",
       "  <thead>\n",
       "    <tr style=\"text-align: right;\">\n",
       "      <th></th>\n",
       "      <th>id</th>\n",
       "      <th>price</th>\n",
       "    </tr>\n",
       "  </thead>\n",
       "  <tbody>\n",
       "    <tr>\n",
       "      <th>0</th>\n",
       "      <td>22730</td>\n",
       "      <td>4634456.897</td>\n",
       "    </tr>\n",
       "    <tr>\n",
       "      <th>1</th>\n",
       "      <td>22731</td>\n",
       "      <td>4634456.897</td>\n",
       "    </tr>\n",
       "    <tr>\n",
       "      <th>2</th>\n",
       "      <td>22732</td>\n",
       "      <td>4634456.897</td>\n",
       "    </tr>\n",
       "  </tbody>\n",
       "</table>\n",
       "</div>"
      ],
      "text/plain": [
       "      id        price\n",
       "0  22730  4634456.897\n",
       "1  22731  4634456.897\n",
       "2  22732  4634456.897"
      ]
     },
     "execution_count": 9,
     "metadata": {},
     "output_type": "execute_result"
    }
   ],
   "source": [
    "sample_submission.head(3)"
   ]
  },
  {
   "cell_type": "code",
   "execution_count": 10,
   "metadata": {},
   "outputs": [
    {
     "data": {
      "text/html": [
       "<div>\n",
       "<style scoped>\n",
       "    .dataframe tbody tr th:only-of-type {\n",
       "        vertical-align: middle;\n",
       "    }\n",
       "\n",
       "    .dataframe tbody tr th {\n",
       "        vertical-align: top;\n",
       "    }\n",
       "\n",
       "    .dataframe thead th {\n",
       "        text-align: right;\n",
       "    }\n",
       "</style>\n",
       "<table border=\"1\" class=\"dataframe\">\n",
       "  <thead>\n",
       "    <tr style=\"text-align: right;\">\n",
       "      <th></th>\n",
       "      <th>squareMeters</th>\n",
       "      <th>numberOfRooms</th>\n",
       "      <th>hasYard</th>\n",
       "      <th>hasPool</th>\n",
       "      <th>floors</th>\n",
       "      <th>cityCode</th>\n",
       "      <th>cityPartRange</th>\n",
       "      <th>numPrevOwners</th>\n",
       "      <th>made</th>\n",
       "      <th>isNewBuilt</th>\n",
       "      <th>hasStormProtector</th>\n",
       "      <th>basement</th>\n",
       "      <th>attic</th>\n",
       "      <th>garage</th>\n",
       "      <th>hasStorageRoom</th>\n",
       "      <th>hasGuestRoom</th>\n",
       "      <th>price</th>\n",
       "    </tr>\n",
       "  </thead>\n",
       "  <tbody>\n",
       "    <tr>\n",
       "      <th>0</th>\n",
       "      <td>75523</td>\n",
       "      <td>3</td>\n",
       "      <td>0</td>\n",
       "      <td>1</td>\n",
       "      <td>63</td>\n",
       "      <td>9373</td>\n",
       "      <td>3</td>\n",
       "      <td>8</td>\n",
       "      <td>2005</td>\n",
       "      <td>0</td>\n",
       "      <td>1</td>\n",
       "      <td>4313</td>\n",
       "      <td>9005</td>\n",
       "      <td>956</td>\n",
       "      <td>0</td>\n",
       "      <td>7</td>\n",
       "      <td>7559081.5</td>\n",
       "    </tr>\n",
       "    <tr>\n",
       "      <th>1</th>\n",
       "      <td>80771</td>\n",
       "      <td>39</td>\n",
       "      <td>1</td>\n",
       "      <td>1</td>\n",
       "      <td>98</td>\n",
       "      <td>39381</td>\n",
       "      <td>8</td>\n",
       "      <td>6</td>\n",
       "      <td>2015</td>\n",
       "      <td>1</td>\n",
       "      <td>0</td>\n",
       "      <td>3653</td>\n",
       "      <td>2436</td>\n",
       "      <td>128</td>\n",
       "      <td>1</td>\n",
       "      <td>2</td>\n",
       "      <td>8085989.5</td>\n",
       "    </tr>\n",
       "    <tr>\n",
       "      <th>2</th>\n",
       "      <td>55712</td>\n",
       "      <td>58</td>\n",
       "      <td>0</td>\n",
       "      <td>1</td>\n",
       "      <td>19</td>\n",
       "      <td>34457</td>\n",
       "      <td>6</td>\n",
       "      <td>8</td>\n",
       "      <td>2021</td>\n",
       "      <td>0</td>\n",
       "      <td>0</td>\n",
       "      <td>2937</td>\n",
       "      <td>8852</td>\n",
       "      <td>135</td>\n",
       "      <td>1</td>\n",
       "      <td>9</td>\n",
       "      <td>5574642.1</td>\n",
       "    </tr>\n",
       "  </tbody>\n",
       "</table>\n",
       "</div>"
      ],
      "text/plain": [
       "   squareMeters  numberOfRooms  hasYard  hasPool  floors  cityCode  \\\n",
       "0         75523              3        0        1      63      9373   \n",
       "1         80771             39        1        1      98     39381   \n",
       "2         55712             58        0        1      19     34457   \n",
       "\n",
       "   cityPartRange  numPrevOwners  made  isNewBuilt  hasStormProtector  \\\n",
       "0              3              8  2005           0                  1   \n",
       "1              8              6  2015           1                  0   \n",
       "2              6              8  2021           0                  0   \n",
       "\n",
       "   basement  attic  garage  hasStorageRoom  hasGuestRoom      price  \n",
       "0      4313   9005     956               0             7  7559081.5  \n",
       "1      3653   2436     128               1             2  8085989.5  \n",
       "2      2937   8852     135               1             9  5574642.1  "
      ]
     },
     "execution_count": 10,
     "metadata": {},
     "output_type": "execute_result"
    }
   ],
   "source": [
    "original.head(3)"
   ]
  },
  {
   "cell_type": "code",
   "execution_count": 11,
   "metadata": {},
   "outputs": [],
   "source": [
    "train.columns = camel_to_snake(train)\n",
    "test.columns = camel_to_snake(test)\n",
    "original.columns = camel_to_snake(original)"
   ]
  },
  {
   "cell_type": "code",
   "execution_count": 12,
   "metadata": {},
   "outputs": [
    {
     "name": "stdout",
     "output_type": "stream",
     "text": [
      "<class 'pandas.core.frame.DataFrame'>\n",
      "RangeIndex: 22730 entries, 0 to 22729\n",
      "Data columns (total 18 columns):\n",
      " #   Column               Non-Null Count  Dtype  \n",
      "---  ------               --------------  -----  \n",
      " 0   id                   22730 non-null  int64  \n",
      " 1   square_meters        22730 non-null  int64  \n",
      " 2   number_of_rooms      22730 non-null  int64  \n",
      " 3   has_yard             22730 non-null  int64  \n",
      " 4   has_pool             22730 non-null  int64  \n",
      " 5   floors               22730 non-null  int64  \n",
      " 6   city_code            22730 non-null  int64  \n",
      " 7   city_part_range      22730 non-null  int64  \n",
      " 8   num_prev_owners      22730 non-null  int64  \n",
      " 9   made                 22730 non-null  int64  \n",
      " 10  is_new_built         22730 non-null  int64  \n",
      " 11  has_storm_protector  22730 non-null  int64  \n",
      " 12  basement             22730 non-null  int64  \n",
      " 13  attic                22730 non-null  int64  \n",
      " 14  garage               22730 non-null  int64  \n",
      " 15  has_storage_room     22730 non-null  int64  \n",
      " 16  has_guest_room       22730 non-null  int64  \n",
      " 17  price                22730 non-null  float64\n",
      "dtypes: float64(1), int64(17)\n",
      "memory usage: 3.1 MB\n"
     ]
    }
   ],
   "source": [
    "train.info()"
   ]
  },
  {
   "cell_type": "code",
   "execution_count": 13,
   "metadata": {},
   "outputs": [
    {
     "name": "stdout",
     "output_type": "stream",
     "text": [
      "<class 'pandas.core.frame.DataFrame'>\n",
      "RangeIndex: 15154 entries, 0 to 15153\n",
      "Data columns (total 17 columns):\n",
      " #   Column               Non-Null Count  Dtype\n",
      "---  ------               --------------  -----\n",
      " 0   id                   15154 non-null  int64\n",
      " 1   square_meters        15154 non-null  int64\n",
      " 2   number_of_rooms      15154 non-null  int64\n",
      " 3   has_yard             15154 non-null  int64\n",
      " 4   has_pool             15154 non-null  int64\n",
      " 5   floors               15154 non-null  int64\n",
      " 6   city_code            15154 non-null  int64\n",
      " 7   city_part_range      15154 non-null  int64\n",
      " 8   num_prev_owners      15154 non-null  int64\n",
      " 9   made                 15154 non-null  int64\n",
      " 10  is_new_built         15154 non-null  int64\n",
      " 11  has_storm_protector  15154 non-null  int64\n",
      " 12  basement             15154 non-null  int64\n",
      " 13  attic                15154 non-null  int64\n",
      " 14  garage               15154 non-null  int64\n",
      " 15  has_storage_room     15154 non-null  int64\n",
      " 16  has_guest_room       15154 non-null  int64\n",
      "dtypes: int64(17)\n",
      "memory usage: 2.0 MB\n"
     ]
    }
   ],
   "source": [
    "test.info()"
   ]
  },
  {
   "cell_type": "code",
   "execution_count": 14,
   "metadata": {},
   "outputs": [
    {
     "name": "stdout",
     "output_type": "stream",
     "text": [
      "<class 'pandas.core.frame.DataFrame'>\n",
      "RangeIndex: 10000 entries, 0 to 9999\n",
      "Data columns (total 17 columns):\n",
      " #   Column               Non-Null Count  Dtype  \n",
      "---  ------               --------------  -----  \n",
      " 0   square_meters        10000 non-null  int64  \n",
      " 1   number_of_rooms      10000 non-null  int64  \n",
      " 2   has_yard             10000 non-null  int64  \n",
      " 3   has_pool             10000 non-null  int64  \n",
      " 4   floors               10000 non-null  int64  \n",
      " 5   city_code            10000 non-null  int64  \n",
      " 6   city_part_range      10000 non-null  int64  \n",
      " 7   num_prev_owners      10000 non-null  int64  \n",
      " 8   made                 10000 non-null  int64  \n",
      " 9   is_new_built         10000 non-null  int64  \n",
      " 10  has_storm_protector  10000 non-null  int64  \n",
      " 11  basement             10000 non-null  int64  \n",
      " 12  attic                10000 non-null  int64  \n",
      " 13  garage               10000 non-null  int64  \n",
      " 14  has_storage_room     10000 non-null  int64  \n",
      " 15  has_guest_room       10000 non-null  int64  \n",
      " 16  price                10000 non-null  float64\n",
      "dtypes: float64(1), int64(16)\n",
      "memory usage: 1.3 MB\n"
     ]
    }
   ],
   "source": [
    "original.info()"
   ]
  },
  {
   "cell_type": "code",
   "execution_count": 15,
   "metadata": {},
   "outputs": [
    {
     "data": {
      "text/plain": [
       "0"
      ]
     },
     "execution_count": 15,
     "metadata": {},
     "output_type": "execute_result"
    }
   ],
   "source": [
    "train.duplicated().sum()"
   ]
  },
  {
   "cell_type": "code",
   "execution_count": 16,
   "metadata": {},
   "outputs": [
    {
     "data": {
      "text/plain": [
       "0"
      ]
     },
     "execution_count": 16,
     "metadata": {},
     "output_type": "execute_result"
    }
   ],
   "source": [
    "test.duplicated().sum()"
   ]
  },
  {
   "cell_type": "code",
   "execution_count": 17,
   "metadata": {},
   "outputs": [
    {
     "data": {
      "text/plain": [
       "0"
      ]
     },
     "execution_count": 17,
     "metadata": {},
     "output_type": "execute_result"
    }
   ],
   "source": [
    "original.duplicated().sum()"
   ]
  },
  {
   "cell_type": "markdown",
   "metadata": {},
   "source": [
    "**Выводы:**\n",
    "\n",
    "* Данные загружены успешно;\n",
    "* Пропуски отсутствуют;\n",
    "* Дубликаты отсутствуют;\n",
    "* Все признаки количественные;\n",
    "* Датасеты достаточного размера;\n",
    "* Для удобства привели названия столбцов к snake_case формату."
   ]
  },
  {
   "cell_type": "markdown",
   "metadata": {},
   "source": [
    "## EDA"
   ]
  },
  {
   "cell_type": "markdown",
   "metadata": {},
   "source": [
    "Исследуем данные. Сравним с оригиналом."
   ]
  },
  {
   "cell_type": "code",
   "execution_count": 18,
   "metadata": {},
   "outputs": [
    {
     "data": {
      "text/plain": [
       "['id',\n",
       " 'square_meters',\n",
       " 'number_of_rooms',\n",
       " 'has_yard',\n",
       " 'has_pool',\n",
       " 'floors',\n",
       " 'city_code',\n",
       " 'city_part_range',\n",
       " 'num_prev_owners',\n",
       " 'made',\n",
       " 'is_new_built',\n",
       " 'has_storm_protector',\n",
       " 'basement',\n",
       " 'attic',\n",
       " 'garage',\n",
       " 'has_storage_room',\n",
       " 'has_guest_room',\n",
       " 'price']"
      ]
     },
     "execution_count": 18,
     "metadata": {},
     "output_type": "execute_result"
    }
   ],
   "source": [
    "train.columns.tolist()"
   ]
  },
  {
   "cell_type": "markdown",
   "metadata": {},
   "source": [
    "### id"
   ]
  },
  {
   "cell_type": "code",
   "execution_count": 19,
   "metadata": {},
   "outputs": [
    {
     "name": "stdout",
     "output_type": "stream",
     "text": [
      "Количество уникальных значений: 22730.\n",
      "Длина таблицы: 22730.\n"
     ]
    }
   ],
   "source": [
    "print(f'Количество уникальных значений: {train.id.nunique()}.\\nДлина таблицы: {len(train)}.')\n"
   ]
  },
  {
   "cell_type": "code",
   "execution_count": 20,
   "metadata": {},
   "outputs": [
    {
     "data": {
      "text/plain": [
       "22730"
      ]
     },
     "execution_count": 20,
     "metadata": {},
     "output_type": "execute_result"
    }
   ],
   "source": [
    "len(train)"
   ]
  },
  {
   "cell_type": "code",
   "execution_count": 21,
   "metadata": {},
   "outputs": [
    {
     "data": {
      "text/plain": [
       "count    22730.000000\n",
       "mean     11364.500000\n",
       "std       6561.730145\n",
       "min          0.000000\n",
       "25%       5682.250000\n",
       "50%      11364.500000\n",
       "75%      17046.750000\n",
       "max      22729.000000\n",
       "Name: id, dtype: float64"
      ]
     },
     "execution_count": 21,
     "metadata": {},
     "output_type": "execute_result"
    }
   ],
   "source": [
    "train['id'].describe()"
   ]
  },
  {
   "cell_type": "markdown",
   "metadata": {},
   "source": [
    "### square_meters"
   ]
  },
  {
   "cell_type": "code",
   "execution_count": 22,
   "metadata": {},
   "outputs": [
    {
     "data": {
      "text/plain": [
       "'train data'"
      ]
     },
     "metadata": {},
     "output_type": "display_data"
    },
    {
     "data": {
      "text/plain": [
       "count    2.273000e+04\n",
       "mean     4.658622e+04\n",
       "std      4.952124e+04\n",
       "min      8.900000e+01\n",
       "25%      2.039275e+04\n",
       "50%      4.448400e+04\n",
       "75%      7.154700e+04\n",
       "max      6.071330e+06\n",
       "Name: square_meters, dtype: float64"
      ]
     },
     "metadata": {},
     "output_type": "display_data"
    },
    {
     "data": {
      "text/plain": [
       "'original data'"
      ]
     },
     "metadata": {},
     "output_type": "display_data"
    },
    {
     "data": {
      "text/plain": [
       "count    10000.00000\n",
       "mean     49870.13120\n",
       "std      28774.37535\n",
       "min         89.00000\n",
       "25%      25098.50000\n",
       "50%      50105.50000\n",
       "75%      74609.75000\n",
       "max      99999.00000\n",
       "Name: square_meters, dtype: float64"
      ]
     },
     "metadata": {},
     "output_type": "display_data"
    },
    {
     "data": {
      "image/png": "[encoded data removed]",
      "text/plain": [
       "<Figure size 1152x360 with 2 Axes>"
      ]
     },
     "metadata": {
      "needs_background": "light"
     },
     "output_type": "display_data"
    },
    {
     "data": {
      "image/png": "[encoded data removed]",
      "text/plain": [
       "<Figure size 1152x360 with 2 Axes>"
      ]
     },
     "metadata": {
      "needs_background": "light"
     },
     "output_type": "display_data"
    }
   ],
   "source": [
    "for data in train, original:\n",
    "    column_stat(data, 'square_meters')"
   ]
  },
  {
   "cell_type": "markdown",
   "metadata": {},
   "source": [
    "Есть выбросы."
   ]
  },
  {
   "cell_type": "markdown",
   "metadata": {},
   "source": [
    "Посмотрим на количество данных больще 100 000 в train."
   ]
  },
  {
   "cell_type": "code",
   "execution_count": 23,
   "metadata": {},
   "outputs": [
    {
     "data": {
      "text/plain": [
       "2"
      ]
     },
     "execution_count": 23,
     "metadata": {},
     "output_type": "execute_result"
    }
   ],
   "source": [
    "len(train[train['square_meters'] > 100000])"
   ]
  },
  {
   "cell_type": "markdown",
   "metadata": {},
   "source": [
    "Уберем выбросы из train данных."
   ]
  },
  {
   "cell_type": "code",
   "execution_count": 36,
   "metadata": {},
   "outputs": [],
   "source": [
    "train_true = train[train['square_meters'] < 100001].copy()"
   ]
  },
  {
   "cell_type": "code",
   "execution_count": 37,
   "metadata": {},
   "outputs": [
    {
     "data": {
      "text/plain": [
       "'x data'"
      ]
     },
     "metadata": {},
     "output_type": "display_data"
    },
    {
     "data": {
      "text/plain": [
       "count    22728.000000\n",
       "mean     46316.756028\n",
       "std      29239.521294\n",
       "min         89.000000\n",
       "25%      20392.000000\n",
       "50%      44484.000000\n",
       "75%      71541.000000\n",
       "max      99985.000000\n",
       "Name: square_meters, dtype: float64"
      ]
     },
     "metadata": {},
     "output_type": "display_data"
    },
    {
     "data": {
      "text/plain": [
       "'original data'"
      ]
     },
     "metadata": {},
     "output_type": "display_data"
    },
    {
     "data": {
      "text/plain": [
       "count    10000.00000\n",
       "mean     49870.13120\n",
       "std      28774.37535\n",
       "min         89.00000\n",
       "25%      25098.50000\n",
       "50%      50105.50000\n",
       "75%      74609.75000\n",
       "max      99999.00000\n",
       "Name: square_meters, dtype: float64"
      ]
     },
     "metadata": {},
     "output_type": "display_data"
    },
    {
     "data": {
      "image/png": "[encoded data removed]",
      "text/plain": [
       "<Figure size 1152x360 with 2 Axes>"
      ]
     },
     "metadata": {
      "needs_background": "light"
     },
     "output_type": "display_data"
    },
    {
     "data": {
      "image/png": "[encoded data removed]",
      "text/plain": [
       "<Figure size 1152x360 with 2 Axes>"
      ]
     },
     "metadata": {
      "needs_background": "light"
     },
     "output_type": "display_data"
    }
   ],
   "source": [
    "for data in train_true, original:\n",
    "    column_stat(data, 'square_meters')"
   ]
  },
  {
   "cell_type": "markdown",
   "metadata": {},
   "source": [
    "**Выводы по square_meters:**\n",
    "\n",
    "* Удалили 2 выброса;\n",
    "* Сгенерированный датасет имеет слегка скошенные данные вправо относительно ориганала;\n",
    "* Медиана/среднее:: \n",
    "    * train: 44484/46316;\n",
    "    * original: 50105.5/49870;\n",
    "* max: 99999; \n",
    "* min: 89;\n",
    "* original имеет равномерное распределение;\n",
    "* train имеет большее количество значений до 20000, больше походит на распределение Пуассона."
   ]
  },
  {
   "cell_type": "markdown",
   "metadata": {},
   "source": [
    "### number_of_rooms"
   ]
  },
  {
   "cell_type": "code",
   "execution_count": 33,
   "metadata": {},
   "outputs": [
    {
     "data": {
      "text/plain": [
       "'x data'"
      ]
     },
     "metadata": {},
     "output_type": "display_data"
    },
    {
     "data": {
      "text/plain": [
       "count    22728.000000\n",
       "mean        48.240848\n",
       "std         28.227395\n",
       "min          1.000000\n",
       "25%         25.000000\n",
       "50%         47.000000\n",
       "75%         75.000000\n",
       "max        100.000000\n",
       "Name: number_of_rooms, dtype: float64"
      ]
     },
     "metadata": {},
     "output_type": "display_data"
    },
    {
     "data": {
      "text/plain": [
       "'original data'"
      ]
     },
     "metadata": {},
     "output_type": "display_data"
    },
    {
     "data": {
      "text/plain": [
       "count    10000.000000\n",
       "mean        50.358400\n",
       "std         28.816696\n",
       "min          1.000000\n",
       "25%         25.000000\n",
       "50%         50.000000\n",
       "75%         75.000000\n",
       "max        100.000000\n",
       "Name: number_of_rooms, dtype: float64"
      ]
     },
     "metadata": {},
     "output_type": "display_data"
    },
    {
     "data": {
      "image/png": "[encoded data removed]",
      "text/plain": [
       "<Figure size 1152x360 with 2 Axes>"
      ]
     },
     "metadata": {
      "needs_background": "light"
     },
     "output_type": "display_data"
    },
    {
     "data": {
      "image/png": "[encoded data removed]",
      "text/plain": [
       "<Figure size 1152x360 with 2 Axes>"
      ]
     },
     "metadata": {
      "needs_background": "light"
     },
     "output_type": "display_data"
    }
   ],
   "source": [
    "for data in train_true, original:\n",
    "    column_stat(data, 'number_of_rooms')"
   ]
  },
  {
   "cell_type": "markdown",
   "metadata": {},
   "source": [
    "**Выводы по number_of_rooms:**\n",
    "\n",
    "* Сгенерированный датасет имеет слегка скошенные данные вправо относительно ориганала;\n",
    "* Медиана/среднее:\n",
    "    * train: 47/48.24;\n",
    "    * original: 50/50.35;\n",
    "* max: 100;\n",
    "* min: 1;\n",
    "* original имеет равномерное распределение;\n",
    "* train имеет более разнородную структуру данных."
   ]
  },
  {
   "cell_type": "markdown",
   "metadata": {},
   "source": [
    "### has_yard"
   ]
  },
  {
   "cell_type": "code",
   "execution_count": 27,
   "metadata": {},
   "outputs": [
    {
     "name": "stdout",
     "output_type": "stream",
     "text": [
      "Доля True в x: 0.48\n",
      "Доля True в original: 0.51\n"
     ]
    }
   ],
   "source": [
    "for x in train_true, original:\n",
    "    bool_col(x, column='has_yard')"
   ]
  },
  {
   "cell_type": "markdown",
   "metadata": {},
   "source": [
    "**Выводы по has_yard:**\n",
    "\n",
    "* Доля True в train_true: 0.48;\n",
    "* Доля True в original: 0.51."
   ]
  },
  {
   "cell_type": "markdown",
   "metadata": {},
   "source": [
    "### has_pool"
   ]
  },
  {
   "cell_type": "code",
   "execution_count": 28,
   "metadata": {},
   "outputs": [
    {
     "name": "stdout",
     "output_type": "stream",
     "text": [
      "Доля True в x: 0.45\n",
      "Доля True в original: 0.5\n"
     ]
    }
   ],
   "source": [
    "for x in train_true, original:\n",
    "    bool_col(x, column='has_pool')"
   ]
  },
  {
   "cell_type": "markdown",
   "metadata": {},
   "source": [
    "**Выводы по has_pool:**\n",
    "\n",
    "* Доля True в train_true: 0.45;\n",
    "* Доля True в original: 0.5."
   ]
  },
  {
   "cell_type": "markdown",
   "metadata": {},
   "source": [
    "### floors"
   ]
  },
  {
   "cell_type": "code",
   "execution_count": 41,
   "metadata": {},
   "outputs": [
    {
     "data": {
      "text/plain": [
       "'train_true data'"
      ]
     },
     "metadata": {},
     "output_type": "display_data"
    },
    {
     "data": {
      "text/plain": [
       "count    22728.000000\n",
       "mean        47.306054\n",
       "std         47.777722\n",
       "min          1.000000\n",
       "25%         25.000000\n",
       "50%         45.000000\n",
       "75%         69.000000\n",
       "max       6000.000000\n",
       "Name: floors, dtype: float64"
      ]
     },
     "metadata": {},
     "output_type": "display_data"
    },
    {
     "data": {
      "text/plain": [
       "'original data'"
      ]
     },
     "metadata": {},
     "output_type": "display_data"
    },
    {
     "data": {
      "text/plain": [
       "count    10000.000000\n",
       "mean        50.276300\n",
       "std         28.889171\n",
       "min          1.000000\n",
       "25%         25.000000\n",
       "50%         50.000000\n",
       "75%         76.000000\n",
       "max        100.000000\n",
       "Name: floors, dtype: float64"
      ]
     },
     "metadata": {},
     "output_type": "display_data"
    },
    {
     "data": {
      "image/png": "[encoded data removed]",
      "text/plain": [
       "<Figure size 1152x360 with 2 Axes>"
      ]
     },
     "metadata": {
      "needs_background": "light"
     },
     "output_type": "display_data"
    },
    {
     "data": {
      "image/png": "[encoded data removed]",
      "text/plain": [
       "<Figure size 1152x360 with 2 Axes>"
      ]
     },
     "metadata": {
      "needs_background": "light"
     },
     "output_type": "display_data"
    }
   ],
   "source": [
    "for data in train_true, original:\n",
    "    column_stat(data, 'floors')"
   ]
  },
  {
   "cell_type": "code",
   "execution_count": 42,
   "metadata": {},
   "outputs": [
    {
     "data": {
      "text/plain": [
       "1"
      ]
     },
     "execution_count": 42,
     "metadata": {},
     "output_type": "execute_result"
    }
   ],
   "source": [
    "len(train_true[train_true['floors'] > 100])"
   ]
  },
  {
   "cell_type": "markdown",
   "metadata": {},
   "source": [
    "Уберем выбросы из train данных."
   ]
  },
  {
   "cell_type": "code",
   "execution_count": 43,
   "metadata": {},
   "outputs": [],
   "source": [
    "train_true = train_true[train_true['floors'] < 101]"
   ]
  },
  {
   "cell_type": "code",
   "execution_count": 44,
   "metadata": {},
   "outputs": [
    {
     "data": {
      "text/plain": [
       "'train_true data'"
      ]
     },
     "metadata": {},
     "output_type": "display_data"
    },
    {
     "data": {
      "text/plain": [
       "count    22727.000000\n",
       "mean        47.044133\n",
       "std         26.898595\n",
       "min          1.000000\n",
       "25%         25.000000\n",
       "50%         45.000000\n",
       "75%         69.000000\n",
       "max        100.000000\n",
       "Name: floors, dtype: float64"
      ]
     },
     "metadata": {},
     "output_type": "display_data"
    },
    {
     "data": {
      "text/plain": [
       "'original data'"
      ]
     },
     "metadata": {},
     "output_type": "display_data"
    },
    {
     "data": {
      "text/plain": [
       "count    10000.000000\n",
       "mean        50.276300\n",
       "std         28.889171\n",
       "min          1.000000\n",
       "25%         25.000000\n",
       "50%         50.000000\n",
       "75%         76.000000\n",
       "max        100.000000\n",
       "Name: floors, dtype: float64"
      ]
     },
     "metadata": {},
     "output_type": "display_data"
    },
    {
     "data": {
      "image/png": "[encoded data removed]",
      "text/plain": [
       "<Figure size 1152x360 with 2 Axes>"
      ]
     },
     "metadata": {
      "needs_background": "light"
     },
     "output_type": "display_data"
    },
    {
     "data": {
      "image/png": "[encoded data removed]",
      "text/plain": [
       "<Figure size 1152x360 with 2 Axes>"
      ]
     },
     "metadata": {
      "needs_background": "light"
     },
     "output_type": "display_data"
    }
   ],
   "source": [
    "for data in train_true, original:\n",
    "    column_stat(data, 'floors')"
   ]
  },
  {
   "cell_type": "markdown",
   "metadata": {},
   "source": [
    "**Выводы по floors:**\n",
    "\n",
    "* Удалили 1 выброс;\n",
    "* Сгенерированный датасет имеет слегка скошенные данные вправо относительно ориганала;\n",
    "* Медиана/среднее:: \n",
    "    * train: 45/47;\n",
    "    * original: 50/50.3;\n",
    "* max: 100; \n",
    "* min: 1;\n",
    "* original имеет равномерное распределение;\n",
    "* train имеет более разнородную структуру данных."
   ]
  },
  {
   "cell_type": "markdown",
   "metadata": {},
   "source": [
    "### city_code"
   ]
  },
  {
   "cell_type": "code",
   "execution_count": 45,
   "metadata": {},
   "outputs": [
    {
     "data": {
      "text/plain": [
       "'train_true data'"
      ]
     },
     "metadata": {},
     "output_type": "display_data"
    },
    {
     "data": {
      "text/plain": [
       "count     22727.000000\n",
       "mean      50012.631540\n",
       "std       30005.893316\n",
       "min           3.000000\n",
       "25%       22936.000000\n",
       "50%       50414.000000\n",
       "75%       76291.000000\n",
       "max      491100.000000\n",
       "Name: city_code, dtype: float64"
      ]
     },
     "metadata": {},
     "output_type": "display_data"
    },
    {
     "data": {
      "text/plain": [
       "'original data'"
      ]
     },
     "metadata": {},
     "output_type": "display_data"
    },
    {
     "data": {
      "text/plain": [
       "count    10000.000000\n",
       "mean     50225.486100\n",
       "std      29006.675799\n",
       "min          3.000000\n",
       "25%      24693.750000\n",
       "50%      50693.000000\n",
       "75%      75683.250000\n",
       "max      99953.000000\n",
       "Name: city_code, dtype: float64"
      ]
     },
     "metadata": {},
     "output_type": "display_data"
    },
    {
     "data": {
      "image/png": "[encoded data removed]",
      "text/plain": [
       "<Figure size 1152x360 with 2 Axes>"
      ]
     },
     "metadata": {
      "needs_background": "light"
     },
     "output_type": "display_data"
    },
    {
     "data": {
      "image/png": "[encoded data removed]",
      "text/plain": [
       "<Figure size 1152x360 with 2 Axes>"
      ]
     },
     "metadata": {
      "needs_background": "light"
     },
     "output_type": "display_data"
    }
   ],
   "source": [
    "for data in train_true, original:\n",
    "    column_stat(data, 'city_code')"
   ]
  },
  {
   "cell_type": "code",
   "execution_count": 46,
   "metadata": {},
   "outputs": [
    {
     "data": {
      "text/plain": [
       "7"
      ]
     },
     "execution_count": 46,
     "metadata": {},
     "output_type": "execute_result"
    }
   ],
   "source": [
    "len(train_true[train_true['city_code'] > 100000])"
   ]
  },
  {
   "cell_type": "markdown",
   "metadata": {},
   "source": [
    "Уберем выбросы из train данных."
   ]
  },
  {
   "cell_type": "code",
   "execution_count": 47,
   "metadata": {},
   "outputs": [],
   "source": [
    "train_true = train_true[train_true['city_code'] < 100001]"
   ]
  },
  {
   "cell_type": "code",
   "execution_count": 48,
   "metadata": {},
   "outputs": [
    {
     "data": {
      "text/plain": [
       "'train_true data'"
      ]
     },
     "metadata": {},
     "output_type": "display_data"
    },
    {
     "data": {
      "text/plain": [
       "count    22720.000000\n",
       "mean     49944.141417\n",
       "std      29665.721063\n",
       "min          3.000000\n",
       "25%      22936.000000\n",
       "50%      50409.000000\n",
       "75%      76290.000000\n",
       "max      99953.000000\n",
       "Name: city_code, dtype: float64"
      ]
     },
     "metadata": {},
     "output_type": "display_data"
    },
    {
     "data": {
      "text/plain": [
       "'original data'"
      ]
     },
     "metadata": {},
     "output_type": "display_data"
    },
    {
     "data": {
      "text/plain": [
       "count    10000.000000\n",
       "mean     50225.486100\n",
       "std      29006.675799\n",
       "min          3.000000\n",
       "25%      24693.750000\n",
       "50%      50693.000000\n",
       "75%      75683.250000\n",
       "max      99953.000000\n",
       "Name: city_code, dtype: float64"
      ]
     },
     "metadata": {},
     "output_type": "display_data"
    },
    {
     "data": {
      "image/png": "[encoded data removed]",
      "text/plain": [
       "<Figure size 1152x360 with 2 Axes>"
      ]
     },
     "metadata": {
      "needs_background": "light"
     },
     "output_type": "display_data"
    },
    {
     "data": {
      "image/png": "[encoded data removed]",
      "text/plain": [
       "<Figure size 1152x360 with 2 Axes>"
      ]
     },
     "metadata": {
      "needs_background": "light"
     },
     "output_type": "display_data"
    }
   ],
   "source": [
    "for data in train_true, original:\n",
    "    column_stat(data, 'city_code')"
   ]
  },
  {
   "cell_type": "markdown",
   "metadata": {},
   "source": [
    "**Выводы по city_code:**\n",
    "\n",
    "* Удалили 7 выбросов;\n",
    "* Датасеты приблизительно равны;\n",
    "* max: 99953; \n",
    "* min: 3."
   ]
  },
  {
   "cell_type": "markdown",
   "metadata": {},
   "source": [
    "### city_part_range"
   ]
  },
  {
   "cell_type": "code",
   "execution_count": 49,
   "metadata": {},
   "outputs": [
    {
     "data": {
      "text/plain": [
       "'train_true data'"
      ]
     },
     "metadata": {},
     "output_type": "display_data"
    },
    {
     "data": {
      "text/plain": [
       "count    22720.000000\n",
       "mean         5.584683\n",
       "std          2.739871\n",
       "min          1.000000\n",
       "25%          3.000000\n",
       "50%          6.000000\n",
       "75%          8.000000\n",
       "max         10.000000\n",
       "Name: city_part_range, dtype: float64"
      ]
     },
     "metadata": {},
     "output_type": "display_data"
    },
    {
     "data": {
      "text/plain": [
       "'original data'"
      ]
     },
     "metadata": {},
     "output_type": "display_data"
    },
    {
     "data": {
      "text/plain": [
       "count    10000.000000\n",
       "mean         5.510100\n",
       "std          2.872024\n",
       "min          1.000000\n",
       "25%          3.000000\n",
       "50%          5.000000\n",
       "75%          8.000000\n",
       "max         10.000000\n",
       "Name: city_part_range, dtype: float64"
      ]
     },
     "metadata": {},
     "output_type": "display_data"
    },
    {
     "data": {
      "image/png": "[encoded data removed]",
      "text/plain": [
       "<Figure size 1152x360 with 2 Axes>"
      ]
     },
     "metadata": {
      "needs_background": "light"
     },
     "output_type": "display_data"
    },
    {
     "data": {
      "image/png": "[encoded data removed]",
      "text/plain": [
       "<Figure size 1152x360 with 2 Axes>"
      ]
     },
     "metadata": {
      "needs_background": "light"
     },
     "output_type": "display_data"
    }
   ],
   "source": [
    "for data in train_true, original:\n",
    "    column_stat(data, 'city_part_range')"
   ]
  },
  {
   "cell_type": "markdown",
   "metadata": {},
   "source": [
    "**Выводы по city_part_range:**\n",
    "\n",
    "* train имеет большее количество значений 5 и 8;\n",
    "* original имеет равномерное распределение;\n",
    "* max: 10; \n",
    "* min: 1;\n",
    "* Медиана/среднее:\n",
    "    * train: 6/5.6;\n",
    "    * original: 5/5.5;\n",
    "* train слегка скошен влево;\n",
    "* original слегка скошен вправо."
   ]
  },
  {
   "cell_type": "markdown",
   "metadata": {},
   "source": [
    "### num_prev_owners"
   ]
  },
  {
   "cell_type": "code",
   "execution_count": 50,
   "metadata": {},
   "outputs": [
    {
     "data": {
      "text/plain": [
       "'train_true data'"
      ]
     },
     "metadata": {},
     "output_type": "display_data"
    },
    {
     "data": {
      "text/plain": [
       "count    22720.000000\n",
       "mean         5.620158\n",
       "std          2.713079\n",
       "min          1.000000\n",
       "25%          3.000000\n",
       "50%          6.000000\n",
       "75%          8.000000\n",
       "max         10.000000\n",
       "Name: num_prev_owners, dtype: float64"
      ]
     },
     "metadata": {},
     "output_type": "display_data"
    },
    {
     "data": {
      "text/plain": [
       "'original data'"
      ]
     },
     "metadata": {},
     "output_type": "display_data"
    },
    {
     "data": {
      "text/plain": [
       "count    10000.000000\n",
       "mean         5.521700\n",
       "std          2.856667\n",
       "min          1.000000\n",
       "25%          3.000000\n",
       "50%          5.000000\n",
       "75%          8.000000\n",
       "max         10.000000\n",
       "Name: num_prev_owners, dtype: float64"
      ]
     },
     "metadata": {},
     "output_type": "display_data"
    },
    {
     "data": {
      "image/png": "[encoded data removed]",
      "text/plain": [
       "<Figure size 1152x360 with 2 Axes>"
      ]
     },
     "metadata": {
      "needs_background": "light"
     },
     "output_type": "display_data"
    },
    {
     "data": {
      "image/png": "[encoded data removed]",
      "text/plain": [
       "<Figure size 1152x360 with 2 Axes>"
      ]
     },
     "metadata": {
      "needs_background": "light"
     },
     "output_type": "display_data"
    }
   ],
   "source": [
    "for data in train_true, original:\n",
    "    column_stat(data, 'num_prev_owners')"
   ]
  },
  {
   "cell_type": "markdown",
   "metadata": {},
   "source": [
    "**Выводы по num_prev_owners:**\n",
    "\n",
    "* train имеет большее количество значений 5, меньшее 1 и 10;\n",
    "* original имеет равномерное распределение;\n",
    "* max: 10; \n",
    "* min: 1;\n",
    "* Медиана:\n",
    "    * train: 6;\n",
    "    * original: 5."
   ]
  },
  {
   "cell_type": "markdown",
   "metadata": {},
   "source": [
    "### made"
   ]
  },
  {
   "cell_type": "code",
   "execution_count": 51,
   "metadata": {},
   "outputs": [
    {
     "data": {
      "text/plain": [
       "'train_true data'"
      ]
     },
     "metadata": {},
     "output_type": "display_data"
    },
    {
     "data": {
      "text/plain": [
       "count    22720.000000\n",
       "mean      2008.006206\n",
       "std        118.852827\n",
       "min       1990.000000\n",
       "25%       2000.000000\n",
       "50%       2006.000000\n",
       "75%       2014.000000\n",
       "max      10000.000000\n",
       "Name: made, dtype: float64"
      ]
     },
     "metadata": {},
     "output_type": "display_data"
    },
    {
     "data": {
      "text/plain": [
       "'original data'"
      ]
     },
     "metadata": {},
     "output_type": "display_data"
    },
    {
     "data": {
      "text/plain": [
       "count    10000.00000\n",
       "mean      2005.48850\n",
       "std          9.30809\n",
       "min       1990.00000\n",
       "25%       1997.00000\n",
       "50%       2005.50000\n",
       "75%       2014.00000\n",
       "max       2021.00000\n",
       "Name: made, dtype: float64"
      ]
     },
     "metadata": {},
     "output_type": "display_data"
    },
    {
     "data": {
      "image/png": "[encoded data removed]",
      "text/plain": [
       "<Figure size 1152x360 with 2 Axes>"
      ]
     },
     "metadata": {
      "needs_background": "light"
     },
     "output_type": "display_data"
    },
    {
     "data": {
      "image/png": "[encoded data removed]",
      "text/plain": [
       "<Figure size 1152x360 with 2 Axes>"
      ]
     },
     "metadata": {
      "needs_background": "light"
     },
     "output_type": "display_data"
    }
   ],
   "source": [
    "for data in train_true, original:\n",
    "    column_stat(data, 'made')"
   ]
  },
  {
   "cell_type": "code",
   "execution_count": 52,
   "metadata": {},
   "outputs": [
    {
     "data": {
      "text/plain": [
       "5"
      ]
     },
     "execution_count": 52,
     "metadata": {},
     "output_type": "execute_result"
    }
   ],
   "source": [
    "len(train_true[train_true['made'] > 2021])"
   ]
  },
  {
   "cell_type": "markdown",
   "metadata": {},
   "source": [
    "Уберем выбросы из train данных."
   ]
  },
  {
   "cell_type": "code",
   "execution_count": 53,
   "metadata": {},
   "outputs": [],
   "source": [
    "train_true = train_true[train_true['made'] < 2022]"
   ]
  },
  {
   "cell_type": "code",
   "execution_count": 54,
   "metadata": {},
   "outputs": [
    {
     "data": {
      "text/plain": [
       "'train_true data'"
      ]
     },
     "metadata": {},
     "output_type": "display_data"
    },
    {
     "data": {
      "text/plain": [
       "count    22715.000000\n",
       "mean      2006.247017\n",
       "std          8.121927\n",
       "min       1990.000000\n",
       "25%       2000.000000\n",
       "50%       2006.000000\n",
       "75%       2014.000000\n",
       "max       2021.000000\n",
       "Name: made, dtype: float64"
      ]
     },
     "metadata": {},
     "output_type": "display_data"
    },
    {
     "data": {
      "text/plain": [
       "'original data'"
      ]
     },
     "metadata": {},
     "output_type": "display_data"
    },
    {
     "data": {
      "text/plain": [
       "count    10000.00000\n",
       "mean      2005.48850\n",
       "std          9.30809\n",
       "min       1990.00000\n",
       "25%       1997.00000\n",
       "50%       2005.50000\n",
       "75%       2014.00000\n",
       "max       2021.00000\n",
       "Name: made, dtype: float64"
      ]
     },
     "metadata": {},
     "output_type": "display_data"
    },
    {
     "data": {
      "image/png": "[encoded data removed]",
      "text/plain": [
       "<Figure size 1152x360 with 2 Axes>"
      ]
     },
     "metadata": {
      "needs_background": "light"
     },
     "output_type": "display_data"
    },
    {
     "data": {
      "image/png": "[encoded data removed]",
      "text/plain": [
       "<Figure size 1152x360 with 2 Axes>"
      ]
     },
     "metadata": {
      "needs_background": "light"
     },
     "output_type": "display_data"
    }
   ],
   "source": [
    "for data in train_true, original:\n",
    "    column_stat(data, 'made')"
   ]
  },
  {
   "cell_type": "markdown",
   "metadata": {},
   "source": [
    "**Выводы по made:**\n",
    "\n",
    "* Удалили 5 выбросов;\n",
    "* train имеют большее количество значений 2000;\n",
    "* max: 2021; \n",
    "* min: 1990;"
   ]
  },
  {
   "cell_type": "markdown",
   "metadata": {},
   "source": [
    "### is_new_built"
   ]
  },
  {
   "cell_type": "code",
   "execution_count": 74,
   "metadata": {},
   "outputs": [
    {
     "name": "stdout",
     "output_type": "stream",
     "text": [
      "Доля True в x: 0.47\n",
      "Доля True в original: 0.5\n"
     ]
    }
   ],
   "source": [
    "for x in train_true, original:\n",
    "    bool_col(x, column='is_new_built')"
   ]
  },
  {
   "cell_type": "markdown",
   "metadata": {},
   "source": [
    "**Выводы по is_new_built:**\n",
    "\n",
    "* Доля True в train_true: 0.47;\n",
    "* Доля True в original: 0.5."
   ]
  },
  {
   "cell_type": "markdown",
   "metadata": {},
   "source": [
    "### has_storm_protector"
   ]
  },
  {
   "cell_type": "code",
   "execution_count": 75,
   "metadata": {},
   "outputs": [
    {
     "name": "stdout",
     "output_type": "stream",
     "text": [
      "Доля True в x: 0.46\n",
      "Доля True в original: 0.5\n"
     ]
    }
   ],
   "source": [
    "for x in train_true, original:\n",
    "    bool_col(x, column='has_storm_protector')"
   ]
  },
  {
   "cell_type": "markdown",
   "metadata": {},
   "source": [
    "**Выводы по has_storm_protector:**\n",
    "\n",
    "* Доля True в train_true: 0.46;\n",
    "* Доля True в original: 0.5."
   ]
  },
  {
   "cell_type": "markdown",
   "metadata": {},
   "source": [
    "### basement"
   ]
  },
  {
   "cell_type": "code",
   "execution_count": 76,
   "metadata": {},
   "outputs": [
    {
     "data": {
      "text/plain": [
       "'train_true data'"
      ]
     },
     "metadata": {},
     "output_type": "display_data"
    },
    {
     "data": {
      "text/plain": [
       "count    22715.000000\n",
       "mean      5282.882236\n",
       "std       3047.349575\n",
       "min          4.000000\n",
       "25%       2976.000000\n",
       "50%       5359.000000\n",
       "75%       7746.000000\n",
       "max      91992.000000\n",
       "Name: basement, dtype: float64"
      ]
     },
     "metadata": {},
     "output_type": "display_data"
    },
    {
     "data": {
      "text/plain": [
       "'original data'"
      ]
     },
     "metadata": {},
     "output_type": "display_data"
    },
    {
     "data": {
      "text/plain": [
       "count    10000.000000\n",
       "mean      5033.103900\n",
       "std       2876.729545\n",
       "min          0.000000\n",
       "25%       2559.750000\n",
       "50%       5092.500000\n",
       "75%       7511.250000\n",
       "max      10000.000000\n",
       "Name: basement, dtype: float64"
      ]
     },
     "metadata": {},
     "output_type": "display_data"
    },
    {
     "data": {
      "image/png": "[encoded data removed]",
      "text/plain": [
       "<Figure size 1152x360 with 2 Axes>"
      ]
     },
     "metadata": {
      "needs_background": "light"
     },
     "output_type": "display_data"
    },
    {
     "data": {
      "image/png": "[encoded data removed]",
      "text/plain": [
       "<Figure size 1152x360 with 2 Axes>"
      ]
     },
     "metadata": {
      "needs_background": "light"
     },
     "output_type": "display_data"
    }
   ],
   "source": [
    "for data in train_true, original:\n",
    "    column_stat(data, 'basement')"
   ]
  },
  {
   "cell_type": "code",
   "execution_count": 78,
   "metadata": {},
   "outputs": [
    {
     "data": {
      "text/plain": [
       "4"
      ]
     },
     "execution_count": 78,
     "metadata": {},
     "output_type": "execute_result"
    }
   ],
   "source": [
    "len(train_true[train_true['basement'] > 10000])"
   ]
  },
  {
   "cell_type": "code",
   "execution_count": 79,
   "metadata": {},
   "outputs": [],
   "source": [
    "train_true = train_true[train_true['basement'] < 10001]"
   ]
  },
  {
   "cell_type": "code",
   "execution_count": 83,
   "metadata": {},
   "outputs": [
    {
     "data": {
      "text/plain": [
       "'train_true data'"
      ]
     },
     "metadata": {},
     "output_type": "display_data"
    },
    {
     "data": {
      "text/plain": [
       "count    22711.000000\n",
       "mean      5268.394875\n",
       "std       2844.719279\n",
       "min          4.000000\n",
       "25%       2976.000000\n",
       "50%       5359.000000\n",
       "75%       7745.000000\n",
       "max      10000.000000\n",
       "Name: basement, dtype: float64"
      ]
     },
     "metadata": {},
     "output_type": "display_data"
    },
    {
     "data": {
      "text/plain": [
       "'original data'"
      ]
     },
     "metadata": {},
     "output_type": "display_data"
    },
    {
     "data": {
      "text/plain": [
       "count    10000.000000\n",
       "mean      5033.103900\n",
       "std       2876.729545\n",
       "min          0.000000\n",
       "25%       2559.750000\n",
       "50%       5092.500000\n",
       "75%       7511.250000\n",
       "max      10000.000000\n",
       "Name: basement, dtype: float64"
      ]
     },
     "metadata": {},
     "output_type": "display_data"
    },
    {
     "data": {
      "image/png": "[encoded data removed]",
      "text/plain": [
       "<Figure size 1008x288 with 2 Axes>"
      ]
     },
     "metadata": {
      "needs_background": "light"
     },
     "output_type": "display_data"
    },
    {
     "data": {
      "image/png": "[encoded data removed]",
      "text/plain": [
       "<Figure size 1008x288 with 2 Axes>"
      ]
     },
     "metadata": {
      "needs_background": "light"
     },
     "output_type": "display_data"
    }
   ],
   "source": [
    "for data in train_true, original:\n",
    "    column_stat(data, 'basement')"
   ]
  },
  {
   "cell_type": "markdown",
   "metadata": {},
   "source": [
    "**Выводы по basement:**\n",
    "\n",
    "* train убрали 4 выброса;\n",
    "* train имеет большую разнородность данных;\n",
    "* Распределение равномерное;\n",
    "* max: 10000; \n",
    "* min: 0; в train 4."
   ]
  },
  {
   "cell_type": "markdown",
   "metadata": {},
   "source": [
    "### attic"
   ]
  },
  {
   "cell_type": "code",
   "execution_count": 84,
   "metadata": {},
   "outputs": [
    {
     "data": {
      "text/plain": [
       "'train_true data'"
      ]
     },
     "metadata": {},
     "output_type": "display_data"
    },
    {
     "data": {
      "text/plain": [
       "count    22711.000000\n",
       "mean      5067.053498\n",
       "std       3097.157596\n",
       "min          1.000000\n",
       "25%       2599.000000\n",
       "50%       4976.000000\n",
       "75%       7652.000000\n",
       "max      96381.000000\n",
       "Name: attic, dtype: float64"
      ]
     },
     "metadata": {},
     "output_type": "display_data"
    },
    {
     "data": {
      "text/plain": [
       "'original data'"
      ]
     },
     "metadata": {},
     "output_type": "display_data"
    },
    {
     "data": {
      "text/plain": [
       "count    10000.00000\n",
       "mean      5028.01060\n",
       "std       2894.33221\n",
       "min          1.00000\n",
       "25%       2512.00000\n",
       "50%       5045.00000\n",
       "75%       7540.50000\n",
       "max      10000.00000\n",
       "Name: attic, dtype: float64"
      ]
     },
     "metadata": {},
     "output_type": "display_data"
    },
    {
     "data": {
      "image/png": "[encoded data removed]",
      "text/plain": [
       "<Figure size 1008x288 with 2 Axes>"
      ]
     },
     "metadata": {
      "needs_background": "light"
     },
     "output_type": "display_data"
    },
    {
     "data": {
      "image/png": "[encoded data removed]",
      "text/plain": [
       "<Figure size 1008x288 with 2 Axes>"
      ]
     },
     "metadata": {
      "needs_background": "light"
     },
     "output_type": "display_data"
    }
   ],
   "source": [
    "for data in train_true, original:\n",
    "    column_stat(data, 'attic')"
   ]
  },
  {
   "cell_type": "code",
   "execution_count": 85,
   "metadata": {},
   "outputs": [
    {
     "data": {
      "text/plain": [
       "7"
      ]
     },
     "execution_count": 85,
     "metadata": {},
     "output_type": "execute_result"
    }
   ],
   "source": [
    "len(train_true[train_true['attic'] > 10000])"
   ]
  },
  {
   "cell_type": "code",
   "execution_count": 86,
   "metadata": {},
   "outputs": [],
   "source": [
    "train_true = train_true[train_true['attic'] < 10001]"
   ]
  },
  {
   "cell_type": "code",
   "execution_count": 87,
   "metadata": {},
   "outputs": [
    {
     "data": {
      "text/plain": [
       "'train_true data'"
      ]
     },
     "metadata": {},
     "output_type": "display_data"
    },
    {
     "data": {
      "text/plain": [
       "count    22704.000000\n",
       "mean      5049.175476\n",
       "std       2898.494533\n",
       "min          1.000000\n",
       "25%       2596.000000\n",
       "50%       4975.000000\n",
       "75%       7651.000000\n",
       "max      10000.000000\n",
       "Name: attic, dtype: float64"
      ]
     },
     "metadata": {},
     "output_type": "display_data"
    },
    {
     "data": {
      "text/plain": [
       "'original data'"
      ]
     },
     "metadata": {},
     "output_type": "display_data"
    },
    {
     "data": {
      "text/plain": [
       "count    10000.00000\n",
       "mean      5028.01060\n",
       "std       2894.33221\n",
       "min          1.00000\n",
       "25%       2512.00000\n",
       "50%       5045.00000\n",
       "75%       7540.50000\n",
       "max      10000.00000\n",
       "Name: attic, dtype: float64"
      ]
     },
     "metadata": {},
     "output_type": "display_data"
    },
    {
     "data": {
      "image/png": "[encoded data removed]",
      "text/plain": [
       "<Figure size 1008x288 with 2 Axes>"
      ]
     },
     "metadata": {
      "needs_background": "light"
     },
     "output_type": "display_data"
    },
    {
     "data": {
      "image/png": "[encoded data removed]",
      "text/plain": [
       "<Figure size 1008x288 with 2 Axes>"
      ]
     },
     "metadata": {
      "needs_background": "light"
     },
     "output_type": "display_data"
    }
   ],
   "source": [
    "for data in train_true, original:\n",
    "    column_stat(data, 'attic')"
   ]
  },
  {
   "cell_type": "markdown",
   "metadata": {},
   "source": [
    "**Выводы по attic:**\n",
    "\n",
    "* train убрали 7 выбросов;\n",
    "* train имеет большую разнородность данных;\n",
    "* Распределение равномерное;\n",
    "* max: 10000; \n",
    "* min: 1."
   ]
  },
  {
   "cell_type": "markdown",
   "metadata": {},
   "source": [
    "### garage"
   ]
  },
  {
   "cell_type": "code",
   "execution_count": 110,
   "metadata": {},
   "outputs": [
    {
     "data": {
      "text/plain": [
       "'train_true data'"
      ]
     },
     "metadata": {},
     "output_type": "display_data"
    },
    {
     "data": {
      "text/plain": [
       "count    22704.000000\n",
       "mean       530.384294\n",
       "std        274.822193\n",
       "min          4.000000\n",
       "25%        297.000000\n",
       "50%        515.000000\n",
       "75%        766.250000\n",
       "max       9017.000000\n",
       "Name: garage, dtype: float64"
      ]
     },
     "metadata": {},
     "output_type": "display_data"
    },
    {
     "data": {
      "text/plain": [
       "'original data'"
      ]
     },
     "metadata": {},
     "output_type": "display_data"
    },
    {
     "data": {
      "text/plain": [
       "count    10000.00000\n",
       "mean       553.12120\n",
       "std        262.05017\n",
       "min        100.00000\n",
       "25%        327.75000\n",
       "50%        554.00000\n",
       "75%        777.25000\n",
       "max       1000.00000\n",
       "Name: garage, dtype: float64"
      ]
     },
     "metadata": {},
     "output_type": "display_data"
    },
    {
     "data": {
      "image/png": "[encoded data removed]",
      "text/plain": [
       "<Figure size 1008x288 with 2 Axes>"
      ]
     },
     "metadata": {
      "needs_background": "light"
     },
     "output_type": "display_data"
    },
    {
     "data": {
      "image/png": "[encoded data removed]",
      "text/plain": [
       "<Figure size 1008x288 with 2 Axes>"
      ]
     },
     "metadata": {
      "needs_background": "light"
     },
     "output_type": "display_data"
    }
   ],
   "source": [
    "for data in train_true, original:\n",
    "    column_stat(data, 'garage')"
   ]
  },
  {
   "cell_type": "code",
   "execution_count": 112,
   "metadata": {},
   "outputs": [
    {
     "data": {
      "text/plain": [
       "2"
      ]
     },
     "execution_count": 112,
     "metadata": {},
     "output_type": "execute_result"
    }
   ],
   "source": [
    "len(train_true[train_true['garage'] > 1000])"
   ]
  },
  {
   "cell_type": "code",
   "execution_count": 113,
   "metadata": {},
   "outputs": [],
   "source": [
    "train_true = train_true[train_true['garage'] < 1001]"
   ]
  },
  {
   "cell_type": "code",
   "execution_count": 114,
   "metadata": {},
   "outputs": [
    {
     "data": {
      "text/plain": [
       "'train_true data'"
      ]
     },
     "metadata": {},
     "output_type": "display_data"
    },
    {
     "data": {
      "text/plain": [
       "count    22702.000000\n",
       "mean       529.943617\n",
       "std        268.811416\n",
       "min          4.000000\n",
       "25%        297.000000\n",
       "50%        515.000000\n",
       "75%        766.000000\n",
       "max       1000.000000\n",
       "Name: garage, dtype: float64"
      ]
     },
     "metadata": {},
     "output_type": "display_data"
    },
    {
     "data": {
      "text/plain": [
       "'original data'"
      ]
     },
     "metadata": {},
     "output_type": "display_data"
    },
    {
     "data": {
      "text/plain": [
       "count    10000.00000\n",
       "mean       553.12120\n",
       "std        262.05017\n",
       "min        100.00000\n",
       "25%        327.75000\n",
       "50%        554.00000\n",
       "75%        777.25000\n",
       "max       1000.00000\n",
       "Name: garage, dtype: float64"
      ]
     },
     "metadata": {},
     "output_type": "display_data"
    },
    {
     "data": {
      "image/png": "[encoded data removed]",
      "text/plain": [
       "<Figure size 1008x288 with 2 Axes>"
      ]
     },
     "metadata": {
      "needs_background": "light"
     },
     "output_type": "display_data"
    },
    {
     "data": {
      "image/png": "[encoded data removed]",
      "text/plain": [
       "<Figure size 1008x288 with 2 Axes>"
      ]
     },
     "metadata": {
      "needs_background": "light"
     },
     "output_type": "display_data"
    }
   ],
   "source": [
    "for data in train_true, original:\n",
    "    column_stat(data, 'garage')"
   ]
  },
  {
   "cell_type": "markdown",
   "metadata": {},
   "source": [
    "Есть еще аномалии в виде малых значений."
   ]
  },
  {
   "cell_type": "code",
   "execution_count": 116,
   "metadata": {},
   "outputs": [
    {
     "data": {
      "text/plain": [
       "3"
      ]
     },
     "execution_count": 116,
     "metadata": {},
     "output_type": "execute_result"
    }
   ],
   "source": [
    "len(train_true[train_true['garage'] < 100])"
   ]
  },
  {
   "cell_type": "code",
   "execution_count": 117,
   "metadata": {},
   "outputs": [],
   "source": [
    "train_true = train_true[train_true['garage'] > 99]"
   ]
  },
  {
   "cell_type": "code",
   "execution_count": 118,
   "metadata": {},
   "outputs": [
    {
     "data": {
      "text/plain": [
       "'train_true data'"
      ]
     },
     "metadata": {},
     "output_type": "display_data"
    },
    {
     "data": {
      "text/plain": [
       "count    22699.000000\n",
       "mean       530.012952\n",
       "std        268.761506\n",
       "min        100.000000\n",
       "25%        297.000000\n",
       "50%        515.000000\n",
       "75%        766.000000\n",
       "max       1000.000000\n",
       "Name: garage, dtype: float64"
      ]
     },
     "metadata": {},
     "output_type": "display_data"
    },
    {
     "data": {
      "text/plain": [
       "'original data'"
      ]
     },
     "metadata": {},
     "output_type": "display_data"
    },
    {
     "data": {
      "text/plain": [
       "count    10000.00000\n",
       "mean       553.12120\n",
       "std        262.05017\n",
       "min        100.00000\n",
       "25%        327.75000\n",
       "50%        554.00000\n",
       "75%        777.25000\n",
       "max       1000.00000\n",
       "Name: garage, dtype: float64"
      ]
     },
     "metadata": {},
     "output_type": "display_data"
    },
    {
     "data": {
      "image/png": "[encoded data removed]",
      "text/plain": [
       "<Figure size 1008x288 with 2 Axes>"
      ]
     },
     "metadata": {
      "needs_background": "light"
     },
     "output_type": "display_data"
    },
    {
     "data": {
      "image/png": "[encoded data removed]",
      "text/plain": [
       "<Figure size 1008x288 with 2 Axes>"
      ]
     },
     "metadata": {
      "needs_background": "light"
     },
     "output_type": "display_data"
    }
   ],
   "source": [
    "for data in train_true, original:\n",
    "    column_stat(data, 'garage')"
   ]
  },
  {
   "cell_type": "markdown",
   "metadata": {},
   "source": [
    "**Выводы по garage:**\n",
    "\n",
    "* train убрали 5 выбросов/аномалий:\n",
    "    * 2 по верхней границе;\n",
    "    * 3 по нижней границе;\n",
    "* train имеет большую разнородность данных;\n",
    "* Распределение равномерное;\n",
    "* max: 1000; \n",
    "* min: 100."
   ]
  },
  {
   "cell_type": "markdown",
   "metadata": {},
   "source": [
    "### has_storage_room"
   ]
  },
  {
   "cell_type": "code",
   "execution_count": 89,
   "metadata": {},
   "outputs": [
    {
     "name": "stdout",
     "output_type": "stream",
     "text": [
      "Доля True в x: 0.46\n",
      "Доля True в original: 0.5\n"
     ]
    }
   ],
   "source": [
    "for x in train_true, original:\n",
    "    bool_col(x, column='has_storage_room')"
   ]
  },
  {
   "cell_type": "markdown",
   "metadata": {},
   "source": [
    "**Выводы по has_storage_room:**\n",
    "\n",
    "* Доля True в train_true: 0.46;\n",
    "* Доля True в original: 0.5."
   ]
  },
  {
   "cell_type": "markdown",
   "metadata": {},
   "source": [
    "### has_guest_room"
   ]
  },
  {
   "cell_type": "code",
   "execution_count": 91,
   "metadata": {},
   "outputs": [
    {
     "data": {
      "text/plain": [
       "'train_true data'"
      ]
     },
     "metadata": {},
     "output_type": "display_data"
    },
    {
     "data": {
      "text/plain": [
       "count    22704.000000\n",
       "mean         5.154466\n",
       "std          3.055026\n",
       "min          0.000000\n",
       "25%          3.000000\n",
       "50%          5.000000\n",
       "75%          8.000000\n",
       "max         10.000000\n",
       "Name: has_guest_room, dtype: float64"
      ]
     },
     "metadata": {},
     "output_type": "display_data"
    },
    {
     "data": {
      "text/plain": [
       "'original data'"
      ]
     },
     "metadata": {},
     "output_type": "display_data"
    },
    {
     "data": {
      "text/plain": [
       "count    10000.00000\n",
       "mean         4.99460\n",
       "std          3.17641\n",
       "min          0.00000\n",
       "25%          2.00000\n",
       "50%          5.00000\n",
       "75%          8.00000\n",
       "max         10.00000\n",
       "Name: has_guest_room, dtype: float64"
      ]
     },
     "metadata": {},
     "output_type": "display_data"
    },
    {
     "data": {
      "image/png": "[encoded data removed]",
      "text/plain": [
       "<Figure size 1008x288 with 2 Axes>"
      ]
     },
     "metadata": {
      "needs_background": "light"
     },
     "output_type": "display_data"
    },
    {
     "data": {
      "image/png": "[encoded data removed]",
      "text/plain": [
       "<Figure size 1008x288 with 2 Axes>"
      ]
     },
     "metadata": {
      "needs_background": "light"
     },
     "output_type": "display_data"
    }
   ],
   "source": [
    "for data in train_true, original:\n",
    "    column_stat(data, 'has_guest_room')"
   ]
  },
  {
   "cell_type": "markdown",
   "metadata": {},
   "source": [
    "**Выводы по has_guest_room:**\n",
    "\n",
    "* Сгенерированный датасет имеет слегка скошенные данные вправо относительно ориганала;\n",
    "* train имеет большее количество значений 8;\n",
    "* original имеет равномерное распределение;\n",
    "* Медиана/среднее:\n",
    "    * train: 5/5.15;\n",
    "    * original: 5/5;\n",
    "* max: 10;\n",
    "* min: 0;\n",
    "* train имеет более разнородную структуру данных."
   ]
  },
  {
   "cell_type": "markdown",
   "metadata": {},
   "source": [
    "### price"
   ]
  },
  {
   "cell_type": "code",
   "execution_count": 92,
   "metadata": {},
   "outputs": [
    {
     "data": {
      "text/plain": [
       "'train_true data'"
      ]
     },
     "metadata": {},
     "output_type": "display_data"
    },
    {
     "data": {
      "text/plain": [
       "count    2.270400e+04\n",
       "mean     4.634035e+06\n",
       "std      2.925691e+06\n",
       "min      1.031350e+04\n",
       "25%      2.041030e+06\n",
       "50%      4.450823e+06\n",
       "75%      7.159920e+06\n",
       "max      1.000428e+07\n",
       "Name: price, dtype: float64"
      ]
     },
     "metadata": {},
     "output_type": "display_data"
    },
    {
     "data": {
      "text/plain": [
       "'original data'"
      ]
     },
     "metadata": {},
     "output_type": "display_data"
    },
    {
     "data": {
      "text/plain": [
       "count    1.000000e+04\n",
       "mean     4.993448e+06\n",
       "std      2.877424e+06\n",
       "min      1.031350e+04\n",
       "25%      2.516402e+06\n",
       "50%      5.016180e+06\n",
       "75%      7.469092e+06\n",
       "max      1.000677e+07\n",
       "Name: price, dtype: float64"
      ]
     },
     "metadata": {},
     "output_type": "display_data"
    },
    {
     "data": {
      "image/png": "[encoded data removed]",
      "text/plain": [
       "<Figure size 1008x288 with 2 Axes>"
      ]
     },
     "metadata": {
      "needs_background": "light"
     },
     "output_type": "display_data"
    },
    {
     "data": {
      "image/png": "[encoded data removed]",
      "text/plain": [
       "<Figure size 1008x288 with 2 Axes>"
      ]
     },
     "metadata": {
      "needs_background": "light"
     },
     "output_type": "display_data"
    }
   ],
   "source": [
    "for data in train_true, original:\n",
    "    column_stat(data, 'price')"
   ]
  },
  {
   "cell_type": "markdown",
   "metadata": {},
   "source": [
    "**Выводы по price:**\n",
    "\n",
    "* Сгенерированный датасет имеет слегка скошенные данные вправо относительно ориганала и имеет некую схожесть с распределением Пирсона;\n",
    "* original имеет равномерное распределение;\n",
    "* Медиана/среднее:\n",
    "    * train: 4450000/4634000;\n",
    "    * original: 5016000/4493000;\n",
    "* max: ~10000000;\n",
    "* min: ~10000;\n",
    "* train имеет более разнородную структуру данных."
   ]
  },
  {
   "cell_type": "markdown",
   "metadata": {},
   "source": [
    "### test label"
   ]
  },
  {
   "cell_type": "markdown",
   "metadata": {},
   "source": [
    "Мы убрали выбросы в train датасете. Посмотрим подобные аномалии в test данных."
   ]
  },
  {
   "cell_type": "code",
   "execution_count": 94,
   "metadata": {},
   "outputs": [
    {
     "data": {
      "text/plain": [
       "'train_true data'"
      ]
     },
     "metadata": {},
     "output_type": "display_data"
    },
    {
     "data": {
      "text/plain": [
       "count    22704.000000\n",
       "mean     46311.813029\n",
       "std      29244.414721\n",
       "min         89.000000\n",
       "25%      20392.000000\n",
       "50%      44484.000000\n",
       "75%      71541.000000\n",
       "max      99985.000000\n",
       "Name: square_meters, dtype: float64"
      ]
     },
     "metadata": {},
     "output_type": "display_data"
    },
    {
     "data": {
      "text/plain": [
       "'test data'"
      ]
     },
     "metadata": {},
     "output_type": "display_data"
    },
    {
     "data": {
      "text/plain": [
       "count    15154.000000\n",
       "mean     45729.407681\n",
       "std      29200.142520\n",
       "min         69.000000\n",
       "25%      19189.000000\n",
       "50%      43802.000000\n",
       "75%      70898.000000\n",
       "max      99999.000000\n",
       "Name: square_meters, dtype: float64"
      ]
     },
     "metadata": {},
     "output_type": "display_data"
    },
    {
     "data": {
      "image/png": "[encoded data removed]",
      "text/plain": [
       "<Figure size 1008x288 with 2 Axes>"
      ]
     },
     "metadata": {
      "needs_background": "light"
     },
     "output_type": "display_data"
    },
    {
     "data": {
      "image/png": "[encoded data removed]",
      "text/plain": [
       "<Figure size 1008x288 with 2 Axes>"
      ]
     },
     "metadata": {
      "needs_background": "light"
     },
     "output_type": "display_data"
    }
   ],
   "source": [
    "for data in train_true, test:\n",
    "    column_stat(data, 'square_meters')"
   ]
  },
  {
   "cell_type": "markdown",
   "metadata": {},
   "source": [
    "square_meters:\n",
    "\n",
    "* данные схожи по структуре;\n",
    "* аномалий нет."
   ]
  },
  {
   "cell_type": "code",
   "execution_count": 95,
   "metadata": {},
   "outputs": [
    {
     "data": {
      "text/plain": [
       "'train_true data'"
      ]
     },
     "metadata": {},
     "output_type": "display_data"
    },
    {
     "data": {
      "text/plain": [
       "count    22704.000000\n",
       "mean        48.232514\n",
       "std         28.229020\n",
       "min          1.000000\n",
       "25%         25.000000\n",
       "50%         47.000000\n",
       "75%         75.000000\n",
       "max        100.000000\n",
       "Name: number_of_rooms, dtype: float64"
      ]
     },
     "metadata": {},
     "output_type": "display_data"
    },
    {
     "data": {
      "text/plain": [
       "'test data'"
      ]
     },
     "metadata": {},
     "output_type": "display_data"
    },
    {
     "data": {
      "text/plain": [
       "count    15154.000000\n",
       "mean        47.874951\n",
       "std         28.164077\n",
       "min          1.000000\n",
       "25%         25.000000\n",
       "50%         46.000000\n",
       "75%         75.000000\n",
       "max        100.000000\n",
       "Name: number_of_rooms, dtype: float64"
      ]
     },
     "metadata": {},
     "output_type": "display_data"
    },
    {
     "data": {
      "image/png": "[encoded data removed]",
      "text/plain": [
       "<Figure size 1008x288 with 2 Axes>"
      ]
     },
     "metadata": {
      "needs_background": "light"
     },
     "output_type": "display_data"
    },
    {
     "data": {
      "image/png": "[encoded data removed]",
      "text/plain": [
       "<Figure size 1008x288 with 2 Axes>"
      ]
     },
     "metadata": {
      "needs_background": "light"
     },
     "output_type": "display_data"
    }
   ],
   "source": [
    "for data in train_true, test:\n",
    "    column_stat(data, 'number_of_rooms')"
   ]
  },
  {
   "cell_type": "markdown",
   "metadata": {},
   "source": [
    "number_of_rooms:\n",
    "\n",
    "* данные схожи по структуре;\n",
    "* аномалий нет."
   ]
  },
  {
   "cell_type": "code",
   "execution_count": 96,
   "metadata": {},
   "outputs": [
    {
     "data": {
      "text/plain": [
       "'train_true data'"
      ]
     },
     "metadata": {},
     "output_type": "display_data"
    },
    {
     "data": {
      "text/plain": [
       "count    22704.000000\n",
       "mean        47.039244\n",
       "std         26.900172\n",
       "min          1.000000\n",
       "25%         25.000000\n",
       "50%         45.000000\n",
       "75%         69.000000\n",
       "max        100.000000\n",
       "Name: floors, dtype: float64"
      ]
     },
     "metadata": {},
     "output_type": "display_data"
    },
    {
     "data": {
      "text/plain": [
       "'test data'"
      ]
     },
     "metadata": {},
     "output_type": "display_data"
    },
    {
     "data": {
      "text/plain": [
       "count    15154.000000\n",
       "mean        46.401148\n",
       "std         27.000547\n",
       "min          1.000000\n",
       "25%         25.000000\n",
       "50%         44.000000\n",
       "75%         69.000000\n",
       "max        100.000000\n",
       "Name: floors, dtype: float64"
      ]
     },
     "metadata": {},
     "output_type": "display_data"
    },
    {
     "data": {
      "image/png": "[encoded data removed]",
      "text/plain": [
       "<Figure size 1008x288 with 2 Axes>"
      ]
     },
     "metadata": {
      "needs_background": "light"
     },
     "output_type": "display_data"
    },
    {
     "data": {
      "image/png": "[encoded data removed]",
      "text/plain": [
       "<Figure size 1008x288 with 2 Axes>"
      ]
     },
     "metadata": {
      "needs_background": "light"
     },
     "output_type": "display_data"
    }
   ],
   "source": [
    "for data in train_true, test:\n",
    "    column_stat(data, 'floors')"
   ]
  },
  {
   "cell_type": "markdown",
   "metadata": {},
   "source": [
    "floors:\n",
    "\n",
    "* данные схожи по структуре;\n",
    "* аномалий нет."
   ]
  },
  {
   "cell_type": "code",
   "execution_count": 97,
   "metadata": {},
   "outputs": [
    {
     "data": {
      "text/plain": [
       "'train_true data'"
      ]
     },
     "metadata": {},
     "output_type": "display_data"
    },
    {
     "data": {
      "text/plain": [
       "count    22704.000000\n",
       "mean     49945.260923\n",
       "std      29668.143936\n",
       "min          3.000000\n",
       "25%      22936.000000\n",
       "50%      50409.000000\n",
       "75%      76290.000000\n",
       "max      99953.000000\n",
       "Name: city_code, dtype: float64"
      ]
     },
     "metadata": {},
     "output_type": "display_data"
    },
    {
     "data": {
      "text/plain": [
       "'test data'"
      ]
     },
     "metadata": {},
     "output_type": "display_data"
    },
    {
     "data": {
      "text/plain": [
       "count     15154.000000\n",
       "mean      50185.582750\n",
       "std       31227.690126\n",
       "min           3.000000\n",
       "25%       23141.000000\n",
       "50%       50693.000000\n",
       "75%       76264.000000\n",
       "max      977950.000000\n",
       "Name: city_code, dtype: float64"
      ]
     },
     "metadata": {},
     "output_type": "display_data"
    },
    {
     "data": {
      "image/png": "[encoded data removed]",
      "text/plain": [
       "<Figure size 1008x288 with 2 Axes>"
      ]
     },
     "metadata": {
      "needs_background": "light"
     },
     "output_type": "display_data"
    },
    {
     "data": {
      "image/png": "[encoded data removed]",
      "text/plain": [
       "<Figure size 1008x288 with 2 Axes>"
      ]
     },
     "metadata": {
      "needs_background": "light"
     },
     "output_type": "display_data"
    }
   ],
   "source": [
    "for data in train_true, test:\n",
    "    column_stat(data, 'city_code')"
   ]
  },
  {
   "cell_type": "code",
   "execution_count": 99,
   "metadata": {},
   "outputs": [
    {
     "data": {
      "text/plain": [
       "'train_true data'"
      ]
     },
     "metadata": {},
     "output_type": "display_data"
    },
    {
     "data": {
      "text/plain": [
       "count    22704.000000\n",
       "mean     49945.260923\n",
       "std      29668.143936\n",
       "min          3.000000\n",
       "25%      22936.000000\n",
       "50%      50409.000000\n",
       "75%      76290.000000\n",
       "max      99953.000000\n",
       "Name: city_code, dtype: float64"
      ]
     },
     "metadata": {},
     "output_type": "display_data"
    },
    {
     "data": {
      "text/plain": [
       "'data data'"
      ]
     },
     "metadata": {},
     "output_type": "display_data"
    },
    {
     "data": {
      "text/plain": [
       "count    15149.000000\n",
       "mean     50036.486699\n",
       "std      29433.461260\n",
       "min          3.000000\n",
       "25%      23139.000000\n",
       "50%      50693.000000\n",
       "75%      76257.000000\n",
       "max      99999.000000\n",
       "Name: city_code, dtype: float64"
      ]
     },
     "metadata": {},
     "output_type": "display_data"
    },
    {
     "data": {
      "image/png": "[encoded data removed]",
      "text/plain": [
       "<Figure size 1008x288 with 2 Axes>"
      ]
     },
     "metadata": {
      "needs_background": "light"
     },
     "output_type": "display_data"
    },
    {
     "data": {
      "image/png": "[encoded data removed]",
      "text/plain": [
       "<Figure size 1008x288 with 2 Axes>"
      ]
     },
     "metadata": {
      "needs_background": "light"
     },
     "output_type": "display_data"
    }
   ],
   "source": [
    "for data in train_true, test[test['city_code'] < 100001]:\n",
    "    column_stat(data, 'city_code')"
   ]
  },
  {
   "cell_type": "code",
   "execution_count": 100,
   "metadata": {},
   "outputs": [
    {
     "data": {
      "text/plain": [
       "5"
      ]
     },
     "execution_count": 100,
     "metadata": {},
     "output_type": "execute_result"
    }
   ],
   "source": [
    "len(test[test['city_code'] > 100000])"
   ]
  },
  {
   "cell_type": "markdown",
   "metadata": {},
   "source": [
    "city_code:\n",
    "\n",
    "* данные схожи по структуре;\n",
    "* выбросы есть в количестве 5:\n",
    "    * `test['city_code'] > 100000`"
   ]
  },
  {
   "cell_type": "code",
   "execution_count": 101,
   "metadata": {},
   "outputs": [
    {
     "data": {
      "text/plain": [
       "'train_true data'"
      ]
     },
     "metadata": {},
     "output_type": "display_data"
    },
    {
     "data": {
      "text/plain": [
       "count    22704.000000\n",
       "mean         5.583818\n",
       "std          2.740012\n",
       "min          1.000000\n",
       "25%          3.000000\n",
       "50%          6.000000\n",
       "75%          8.000000\n",
       "max         10.000000\n",
       "Name: city_part_range, dtype: float64"
      ]
     },
     "metadata": {},
     "output_type": "display_data"
    },
    {
     "data": {
      "text/plain": [
       "'test data'"
      ]
     },
     "metadata": {},
     "output_type": "display_data"
    },
    {
     "data": {
      "text/plain": [
       "count    15154.000000\n",
       "mean         5.616933\n",
       "std          2.727914\n",
       "min          1.000000\n",
       "25%          3.000000\n",
       "50%          6.000000\n",
       "75%          8.000000\n",
       "max         10.000000\n",
       "Name: city_part_range, dtype: float64"
      ]
     },
     "metadata": {},
     "output_type": "display_data"
    },
    {
     "data": {
      "image/png": "[encoded data removed]",
      "text/plain": [
       "<Figure size 1008x288 with 2 Axes>"
      ]
     },
     "metadata": {
      "needs_background": "light"
     },
     "output_type": "display_data"
    },
    {
     "data": {
      "image/png": "[encoded data removed]",
      "text/plain": [
       "<Figure size 1008x288 with 2 Axes>"
      ]
     },
     "metadata": {
      "needs_background": "light"
     },
     "output_type": "display_data"
    }
   ],
   "source": [
    "for data in train_true, test:\n",
    "    column_stat(data, 'city_part_range')"
   ]
  },
  {
   "cell_type": "markdown",
   "metadata": {},
   "source": [
    "city_part_range:\n",
    "\n",
    "* данные схожи по структуре;\n",
    "* выбросов нет."
   ]
  },
  {
   "cell_type": "code",
   "execution_count": 102,
   "metadata": {},
   "outputs": [
    {
     "data": {
      "text/plain": [
       "'train_true data'"
      ]
     },
     "metadata": {},
     "output_type": "display_data"
    },
    {
     "data": {
      "text/plain": [
       "count    22704.000000\n",
       "mean         5.620067\n",
       "std          2.713375\n",
       "min          1.000000\n",
       "25%          3.000000\n",
       "50%          6.000000\n",
       "75%          8.000000\n",
       "max         10.000000\n",
       "Name: num_prev_owners, dtype: float64"
      ]
     },
     "metadata": {},
     "output_type": "display_data"
    },
    {
     "data": {
      "text/plain": [
       "'test data'"
      ]
     },
     "metadata": {},
     "output_type": "display_data"
    },
    {
     "data": {
      "text/plain": [
       "count    15154.000000\n",
       "mean         5.602547\n",
       "std          2.718316\n",
       "min          1.000000\n",
       "25%          3.000000\n",
       "50%          6.000000\n",
       "75%          8.000000\n",
       "max         10.000000\n",
       "Name: num_prev_owners, dtype: float64"
      ]
     },
     "metadata": {},
     "output_type": "display_data"
    },
    {
     "data": {
      "image/png": "[encoded data removed]",
      "text/plain": [
       "<Figure size 1008x288 with 2 Axes>"
      ]
     },
     "metadata": {
      "needs_background": "light"
     },
     "output_type": "display_data"
    },
    {
     "data": {
      "image/png": "[encoded data removed]",
      "text/plain": [
       "<Figure size 1008x288 with 2 Axes>"
      ]
     },
     "metadata": {
      "needs_background": "light"
     },
     "output_type": "display_data"
    }
   ],
   "source": [
    "for data in train_true, test:\n",
    "    column_stat(data, 'num_prev_owners')"
   ]
  },
  {
   "cell_type": "markdown",
   "metadata": {},
   "source": [
    "num_prev_owners:\n",
    "\n",
    "* данные схожи по структуре;\n",
    "* выбросов нет."
   ]
  },
  {
   "cell_type": "code",
   "execution_count": 103,
   "metadata": {},
   "outputs": [
    {
     "data": {
      "text/plain": [
       "'train_true data'"
      ]
     },
     "metadata": {},
     "output_type": "display_data"
    },
    {
     "data": {
      "text/plain": [
       "count    22704.000000\n",
       "mean      2006.245772\n",
       "std          8.122191\n",
       "min       1990.000000\n",
       "25%       2000.000000\n",
       "50%       2006.000000\n",
       "75%       2014.000000\n",
       "max       2021.000000\n",
       "Name: made, dtype: float64"
      ]
     },
     "metadata": {},
     "output_type": "display_data"
    },
    {
     "data": {
      "text/plain": [
       "'test data'"
      ]
     },
     "metadata": {},
     "output_type": "display_data"
    },
    {
     "data": {
      "text/plain": [
       "count    15154.000000\n",
       "mean      2006.225485\n",
       "std          8.156347\n",
       "min       1990.000000\n",
       "25%       2000.000000\n",
       "50%       2006.000000\n",
       "75%       2014.000000\n",
       "max       2021.000000\n",
       "Name: made, dtype: float64"
      ]
     },
     "metadata": {},
     "output_type": "display_data"
    },
    {
     "data": {
      "image/png": "[encoded data removed]",
      "text/plain": [
       "<Figure size 1008x288 with 2 Axes>"
      ]
     },
     "metadata": {
      "needs_background": "light"
     },
     "output_type": "display_data"
    },
    {
     "data": {
      "image/png": "[encoded data removed]",
      "text/plain": [
       "<Figure size 1008x288 with 2 Axes>"
      ]
     },
     "metadata": {
      "needs_background": "light"
     },
     "output_type": "display_data"
    }
   ],
   "source": [
    "for data in train_true, test:\n",
    "    column_stat(data, 'made')"
   ]
  },
  {
   "cell_type": "markdown",
   "metadata": {},
   "source": [
    "made:\n",
    "\n",
    "* данные схожи по структуре;\n",
    "* выбросов нет."
   ]
  },
  {
   "cell_type": "code",
   "execution_count": 104,
   "metadata": {},
   "outputs": [
    {
     "data": {
      "text/plain": [
       "'train_true data'"
      ]
     },
     "metadata": {},
     "output_type": "display_data"
    },
    {
     "data": {
      "text/plain": [
       "count    22704.000000\n",
       "mean      5268.621080\n",
       "std       2844.405695\n",
       "min          4.000000\n",
       "25%       2976.000000\n",
       "50%       5359.000000\n",
       "75%       7745.000000\n",
       "max      10000.000000\n",
       "Name: basement, dtype: float64"
      ]
     },
     "metadata": {},
     "output_type": "display_data"
    },
    {
     "data": {
      "text/plain": [
       "'test data'"
      ]
     },
     "metadata": {},
     "output_type": "display_data"
    },
    {
     "data": {
      "text/plain": [
       "count    15154.000000\n",
       "mean      5299.415468\n",
       "std       2980.156234\n",
       "min          8.000000\n",
       "25%       3114.000000\n",
       "50%       5359.000000\n",
       "75%       7739.000000\n",
       "max      89016.000000\n",
       "Name: basement, dtype: float64"
      ]
     },
     "metadata": {},
     "output_type": "display_data"
    },
    {
     "data": {
      "image/png": "[encoded data removed]",
      "text/plain": [
       "<Figure size 1008x288 with 2 Axes>"
      ]
     },
     "metadata": {
      "needs_background": "light"
     },
     "output_type": "display_data"
    },
    {
     "data": {
      "image/png": "[encoded data removed]",
      "text/plain": [
       "<Figure size 1008x288 with 2 Axes>"
      ]
     },
     "metadata": {
      "needs_background": "light"
     },
     "output_type": "display_data"
    }
   ],
   "source": [
    "for data in train_true, test:\n",
    "    column_stat(data, 'basement')"
   ]
  },
  {
   "cell_type": "code",
   "execution_count": 106,
   "metadata": {},
   "outputs": [
    {
     "data": {
      "text/plain": [
       "'train_true data'"
      ]
     },
     "metadata": {},
     "output_type": "display_data"
    },
    {
     "data": {
      "text/plain": [
       "count    22704.000000\n",
       "mean      5268.621080\n",
       "std       2844.405695\n",
       "min          4.000000\n",
       "25%       2976.000000\n",
       "50%       5359.000000\n",
       "75%       7745.000000\n",
       "max      10000.000000\n",
       "Name: basement, dtype: float64"
      ]
     },
     "metadata": {},
     "output_type": "display_data"
    },
    {
     "data": {
      "text/plain": [
       "'data data'"
      ]
     },
     "metadata": {},
     "output_type": "display_data"
    },
    {
     "data": {
      "text/plain": [
       "count    15151.000000\n",
       "mean      5287.298594\n",
       "std       2824.782083\n",
       "min          8.000000\n",
       "25%       3114.000000\n",
       "50%       5359.000000\n",
       "75%       7739.000000\n",
       "max      10000.000000\n",
       "Name: basement, dtype: float64"
      ]
     },
     "metadata": {},
     "output_type": "display_data"
    },
    {
     "data": {
      "image/png": "[encoded data removed]",
      "text/plain": [
       "<Figure size 1008x288 with 2 Axes>"
      ]
     },
     "metadata": {
      "needs_background": "light"
     },
     "output_type": "display_data"
    },
    {
     "data": {
      "image/png": "[encoded data removed]",
      "text/plain": [
       "<Figure size 1008x288 with 2 Axes>"
      ]
     },
     "metadata": {
      "needs_background": "light"
     },
     "output_type": "display_data"
    }
   ],
   "source": [
    "for data in train_true, test[test['basement'] < 10001]:\n",
    "    column_stat(data, 'basement')"
   ]
  },
  {
   "cell_type": "code",
   "execution_count": 105,
   "metadata": {},
   "outputs": [
    {
     "data": {
      "text/plain": [
       "3"
      ]
     },
     "execution_count": 105,
     "metadata": {},
     "output_type": "execute_result"
    }
   ],
   "source": [
    "len(test[test['basement'] > 10000])"
   ]
  },
  {
   "cell_type": "markdown",
   "metadata": {},
   "source": [
    "basement:\n",
    "\n",
    "* данные схожи по структуре;\n",
    "* есть 3 выброса:\n",
    "    * `test['basement'] > 10000`"
   ]
  },
  {
   "cell_type": "code",
   "execution_count": 107,
   "metadata": {},
   "outputs": [
    {
     "data": {
      "text/plain": [
       "'train_true data'"
      ]
     },
     "metadata": {},
     "output_type": "display_data"
    },
    {
     "data": {
      "text/plain": [
       "count    22704.000000\n",
       "mean      5049.175476\n",
       "std       2898.494533\n",
       "min          1.000000\n",
       "25%       2596.000000\n",
       "50%       4975.000000\n",
       "75%       7651.000000\n",
       "max      10000.000000\n",
       "Name: attic, dtype: float64"
      ]
     },
     "metadata": {},
     "output_type": "display_data"
    },
    {
     "data": {
      "text/plain": [
       "'test data'"
      ]
     },
     "metadata": {},
     "output_type": "display_data"
    },
    {
     "data": {
      "text/plain": [
       "count    15154.000000\n",
       "mean      5057.506599\n",
       "std       2928.004147\n",
       "min          1.000000\n",
       "25%       2567.000000\n",
       "50%       5017.000000\n",
       "75%       7650.750000\n",
       "max      38535.000000\n",
       "Name: attic, dtype: float64"
      ]
     },
     "metadata": {},
     "output_type": "display_data"
    },
    {
     "data": {
      "image/png": "[encoded data removed]",
      "text/plain": [
       "<Figure size 1008x288 with 2 Axes>"
      ]
     },
     "metadata": {
      "needs_background": "light"
     },
     "output_type": "display_data"
    },
    {
     "data": {
      "image/png": "[encoded data removed]",
      "text/plain": [
       "<Figure size 1008x288 with 2 Axes>"
      ]
     },
     "metadata": {
      "needs_background": "light"
     },
     "output_type": "display_data"
    }
   ],
   "source": [
    "for data in train_true, test:\n",
    "    column_stat(data, 'attic')"
   ]
  },
  {
   "cell_type": "code",
   "execution_count": 108,
   "metadata": {},
   "outputs": [
    {
     "data": {
      "text/plain": [
       "'train_true data'"
      ]
     },
     "metadata": {},
     "output_type": "display_data"
    },
    {
     "data": {
      "text/plain": [
       "count    22704.000000\n",
       "mean      5049.175476\n",
       "std       2898.494533\n",
       "min          1.000000\n",
       "25%       2596.000000\n",
       "50%       4975.000000\n",
       "75%       7651.000000\n",
       "max      10000.000000\n",
       "Name: attic, dtype: float64"
      ]
     },
     "metadata": {},
     "output_type": "display_data"
    },
    {
     "data": {
      "text/plain": [
       "'data data'"
      ]
     },
     "metadata": {},
     "output_type": "display_data"
    },
    {
     "data": {
      "text/plain": [
       "count    15151.000000\n",
       "mean      5053.075111\n",
       "std       2907.718108\n",
       "min          1.000000\n",
       "25%       2565.000000\n",
       "50%       5017.000000\n",
       "75%       7649.000000\n",
       "max      10000.000000\n",
       "Name: attic, dtype: float64"
      ]
     },
     "metadata": {},
     "output_type": "display_data"
    },
    {
     "data": {
      "image/png": "[encoded data removed]",
      "text/plain": [
       "<Figure size 1008x288 with 2 Axes>"
      ]
     },
     "metadata": {
      "needs_background": "light"
     },
     "output_type": "display_data"
    },
    {
     "data": {
      "image/png": "[encoded data removed]",
      "text/plain": [
       "<Figure size 1008x288 with 2 Axes>"
      ]
     },
     "metadata": {
      "needs_background": "light"
     },
     "output_type": "display_data"
    }
   ],
   "source": [
    "for data in train_true, test[test['attic'] < 10001]:\n",
    "    column_stat(data, 'attic')"
   ]
  },
  {
   "cell_type": "code",
   "execution_count": 109,
   "metadata": {},
   "outputs": [
    {
     "data": {
      "text/plain": [
       "3"
      ]
     },
     "execution_count": 109,
     "metadata": {},
     "output_type": "execute_result"
    }
   ],
   "source": [
    "len(test[test['attic'] > 10000])"
   ]
  },
  {
   "cell_type": "markdown",
   "metadata": {},
   "source": [
    "attic:\n",
    "\n",
    "* данные схожи по структуре;\n",
    "* есть 3 выброса:\n",
    "    * `test['attic'] > 10000`"
   ]
  },
  {
   "cell_type": "code",
   "execution_count": 119,
   "metadata": {},
   "outputs": [
    {
     "data": {
      "text/plain": [
       "'train_true data'"
      ]
     },
     "metadata": {},
     "output_type": "display_data"
    },
    {
     "data": {
      "text/plain": [
       "count    22699.000000\n",
       "mean       530.012952\n",
       "std        268.761506\n",
       "min        100.000000\n",
       "25%        297.000000\n",
       "50%        515.000000\n",
       "75%        766.000000\n",
       "max       1000.000000\n",
       "Name: garage, dtype: float64"
      ]
     },
     "metadata": {},
     "output_type": "display_data"
    },
    {
     "data": {
      "text/plain": [
       "'test data'"
      ]
     },
     "metadata": {},
     "output_type": "display_data"
    },
    {
     "data": {
      "text/plain": [
       "count    15154.000000\n",
       "mean       525.091065\n",
       "std        268.504745\n",
       "min          8.000000\n",
       "25%        294.250000\n",
       "50%        501.000000\n",
       "75%        757.000000\n",
       "max       1000.000000\n",
       "Name: garage, dtype: float64"
      ]
     },
     "metadata": {},
     "output_type": "display_data"
    },
    {
     "data": {
      "image/png": "[encoded data removed]",
      "text/plain": [
       "<Figure size 1008x288 with 2 Axes>"
      ]
     },
     "metadata": {
      "needs_background": "light"
     },
     "output_type": "display_data"
    },
    {
     "data": {
      "image/png": "[encoded data removed]",
      "text/plain": [
       "<Figure size 1008x288 with 2 Axes>"
      ]
     },
     "metadata": {
      "needs_background": "light"
     },
     "output_type": "display_data"
    }
   ],
   "source": [
    "for data in train_true, test:\n",
    "    column_stat(data, 'garage')"
   ]
  },
  {
   "cell_type": "code",
   "execution_count": 120,
   "metadata": {},
   "outputs": [
    {
     "data": {
      "text/plain": [
       "2"
      ]
     },
     "execution_count": 120,
     "metadata": {},
     "output_type": "execute_result"
    }
   ],
   "source": [
    "len(test[test['garage'] < 100])"
   ]
  },
  {
   "cell_type": "code",
   "execution_count": 121,
   "metadata": {},
   "outputs": [
    {
     "data": {
      "text/plain": [
       "'train_true data'"
      ]
     },
     "metadata": {},
     "output_type": "display_data"
    },
    {
     "data": {
      "text/plain": [
       "count    22699.000000\n",
       "mean       530.012952\n",
       "std        268.761506\n",
       "min        100.000000\n",
       "25%        297.000000\n",
       "50%        515.000000\n",
       "75%        766.000000\n",
       "max       1000.000000\n",
       "Name: garage, dtype: float64"
      ]
     },
     "metadata": {},
     "output_type": "display_data"
    },
    {
     "data": {
      "text/plain": [
       "'data data'"
      ]
     },
     "metadata": {},
     "output_type": "display_data"
    },
    {
     "data": {
      "text/plain": [
       "count    15152.000000\n",
       "mean       525.159319\n",
       "std        268.456727\n",
       "min        100.000000\n",
       "25%        295.000000\n",
       "50%        501.000000\n",
       "75%        757.000000\n",
       "max       1000.000000\n",
       "Name: garage, dtype: float64"
      ]
     },
     "metadata": {},
     "output_type": "display_data"
    },
    {
     "data": {
      "image/png": "[encoded data removed]",
      "text/plain": [
       "<Figure size 1008x288 with 2 Axes>"
      ]
     },
     "metadata": {
      "needs_background": "light"
     },
     "output_type": "display_data"
    },
    {
     "data": {
      "image/png": "[encoded data removed]",
      "text/plain": [
       "<Figure size 1008x288 with 2 Axes>"
      ]
     },
     "metadata": {
      "needs_background": "light"
     },
     "output_type": "display_data"
    }
   ],
   "source": [
    "for data in train_true, test[test['garage'] > 99]:\n",
    "    column_stat(data, 'garage')"
   ]
  },
  {
   "cell_type": "markdown",
   "metadata": {},
   "source": [
    "garage:\n",
    "\n",
    "* данные схожи по структуре;\n",
    "* есть 2 выброса по нижней границе:\n",
    "    * `test['garage'] < 100`"
   ]
  },
  {
   "cell_type": "code",
   "execution_count": 122,
   "metadata": {},
   "outputs": [
    {
     "data": {
      "text/plain": [
       "'train_true data'"
      ]
     },
     "metadata": {},
     "output_type": "display_data"
    },
    {
     "data": {
      "text/plain": [
       "count    22699.000000\n",
       "mean         5.154985\n",
       "std          3.055114\n",
       "min          0.000000\n",
       "25%          3.000000\n",
       "50%          5.000000\n",
       "75%          8.000000\n",
       "max         10.000000\n",
       "Name: has_guest_room, dtype: float64"
      ]
     },
     "metadata": {},
     "output_type": "display_data"
    },
    {
     "data": {
      "text/plain": [
       "'test data'"
      ]
     },
     "metadata": {},
     "output_type": "display_data"
    },
    {
     "data": {
      "text/plain": [
       "count    15154.000000\n",
       "mean         5.095618\n",
       "std          3.049174\n",
       "min          0.000000\n",
       "25%          2.000000\n",
       "50%          5.000000\n",
       "75%          8.000000\n",
       "max         10.000000\n",
       "Name: has_guest_room, dtype: float64"
      ]
     },
     "metadata": {},
     "output_type": "display_data"
    },
    {
     "data": {
      "image/png": "[encoded data removed]",
      "text/plain": [
       "<Figure size 1008x288 with 2 Axes>"
      ]
     },
     "metadata": {
      "needs_background": "light"
     },
     "output_type": "display_data"
    },
    {
     "data": {
      "image/png": "[encoded data removed]",
      "text/plain": [
       "<Figure size 1008x288 with 2 Axes>"
      ]
     },
     "metadata": {
      "needs_background": "light"
     },
     "output_type": "display_data"
    }
   ],
   "source": [
    "for data in train_true, test:\n",
    "    column_stat(data, 'has_guest_room')"
   ]
  },
  {
   "cell_type": "markdown",
   "metadata": {},
   "source": [
    "has_guest_room:\n",
    "\n",
    "* данные схожи по структуре;\n",
    "* аномалий нет."
   ]
  },
  {
   "cell_type": "markdown",
   "metadata": {},
   "source": [
    "### Финальные вычисления"
   ]
  },
  {
   "cell_type": "code",
   "execution_count": null,
   "metadata": {},
   "outputs": [
    {
     "name": "stdout",
     "output_type": "stream",
     "text": [
      "Количество аномалий в test данных: 13\n"
     ]
    }
   ],
   "source": [
    "print('Количество аномалий в test данных:',\n",
    "    len(test[test['city_code'] > 100000]) + \n",
    "    len(test[test['basement'] > 10000]) + \n",
    "    len(test[test['attic'] > 10000]) + \n",
    "    len(test[test['garage'] < 100])\n",
    ")"
   ]
  },
  {
   "cell_type": "code",
   "execution_count": 128,
   "metadata": {},
   "outputs": [
    {
     "name": "stdout",
     "output_type": "stream",
     "text": [
      " Длина train данных: 22730 \n",
      " Длина train_true данных: 22699 \n",
      " Процент потерь данных: 0.14 %\n"
     ]
    }
   ],
   "source": [
    "print(' Длина train данных:',\n",
    "    len(train), '\\n',\n",
    "    'Длина train_true данных:',\n",
    "    len(train_true), '\\n',\n",
    "    'Процент потерь данных:',\n",
    "    round((100 - (len(train_true) / len(train)) * 100), 2), \n",
    "    '%'\n",
    ")"
   ]
  },
  {
   "cell_type": "code",
   "execution_count": 129,
   "metadata": {},
   "outputs": [
    {
     "name": "stdout",
     "output_type": "stream",
     "text": [
      " Длина test данных: 15154\n"
     ]
    }
   ],
   "source": [
    "print(' Длина test данных:',\n",
    "    len(test) )"
   ]
  },
  {
   "cell_type": "code",
   "execution_count": 131,
   "metadata": {},
   "outputs": [
    {
     "name": "stdout",
     "output_type": "stream",
     "text": [
      " Длина original данных: 10000\n"
     ]
    }
   ],
   "source": [
    "print(' Длина original данных:',\n",
    "    len(original) )"
   ]
  },
  {
   "cell_type": "markdown",
   "metadata": {},
   "source": [
    "### Общие выводы EDA"
   ]
  },
  {
   "cell_type": "markdown",
   "metadata": {},
   "source": [
    "**Выводы по столбцам train/original**\n",
    "\n",
    "**square_meters:**\n",
    "\n",
    "* Удалили 2 выброса;\n",
    "* Сгенерированный датасет имеет слегка скошенные данные вправо относительно ориганала;\n",
    "* Медиана/среднее:: \n",
    "    * train: 44484/46316;\n",
    "    * original: 50105.5/49870;\n",
    "* max: 99999; \n",
    "* min: 89;\n",
    "* original имеет равномерное распределение;\n",
    "* train имеет большее количество значений до 20000, больше походит на распределение Пуассона.\n",
    "\n",
    "\n",
    "**number_of_rooms:**\n",
    "\n",
    "* Сгенерированный датасет имеет слегка скошенные данные вправо относительно ориганала;\n",
    "* Медиана/среднее:\n",
    "    * train: 47/48.24;\n",
    "    * original: 50/50.35;\n",
    "* max: 100;\n",
    "* min: 1;\n",
    "* original имеет равномерное распределение;\n",
    "* train имеет более разнородную структуру данных.\n",
    "\n",
    "\n",
    "**has_yard:**\n",
    "\n",
    "* Доля True в train_true: 0.48;\n",
    "* Доля True в original: 0.51.\n",
    "\n",
    "\n",
    "**has_pool:**\n",
    "\n",
    "* Доля True в train_true: 0.45;\n",
    "* Доля True в original: 0.5.\n",
    "\n",
    "\n",
    "**floors:**\n",
    "\n",
    "* Удалили 1 выброс;\n",
    "* Сгенерированный датасет имеет слегка скошенные данные вправо относительно ориганала;\n",
    "* Медиана/среднее:: \n",
    "    * train: 45/47;\n",
    "    * original: 50/50.3;\n",
    "* max: 100; \n",
    "* min: 1;\n",
    "* original имеет равномерное распределение;\n",
    "* train имеет более разнородную структуру данных.\n",
    "\n",
    "\n",
    "**city_code:**\n",
    "\n",
    "* Удалили 7 выбросов;\n",
    "* Датасеты приблизительно равны;\n",
    "* max: 99953; \n",
    "* min: 3.\n",
    "\n",
    "\n",
    "**city_part_range:**\n",
    "\n",
    "* train имеет большее количество значений 5 и 8;\n",
    "* original имеет равномерное распределение;\n",
    "* max: 10; \n",
    "* min: 1;\n",
    "* Медиана/среднее:\n",
    "    * train: 6/5.6;\n",
    "    * original: 5/5.5;\n",
    "* train слегка скошен влево;\n",
    "* original слегка скошен вправо.\n",
    "\n",
    "\n",
    "**num_prev_owners:**\n",
    "\n",
    "* train имеет большее количество значений 5, меньшее 1 и 10;\n",
    "* original имеет равномерное распределение;\n",
    "* max: 10; \n",
    "* min: 1;\n",
    "* Медиана:\n",
    "    * train: 6;\n",
    "    * original: 5.\n",
    "\n",
    "\n",
    "**made:**\n",
    "\n",
    "* Удалили 5 выбросов;\n",
    "* train имеют большее количество значений 2000;\n",
    "* max: 2021; \n",
    "* min: 1990;\n",
    "\n",
    "\n",
    "**is_new_built:**\n",
    "\n",
    "* Доля True в train_true: 0.47;\n",
    "* Доля True в original: 0.5.\n",
    "\n",
    "\n",
    "**has_storm_protector:**\n",
    "\n",
    "* Доля True в train_true: 0.46;\n",
    "* Доля True в original: 0.5.\n",
    "\n",
    "\n",
    "**basement:**\n",
    "\n",
    "* train убрали 4 выброса;\n",
    "* train имеет большую разнородность данных;\n",
    "* Распределение равномерное;\n",
    "* max: 10000; \n",
    "* min: 0; в train 4.\n",
    "\n",
    "\n",
    "**attic:**\n",
    "\n",
    "* train убрали 7 выбросов;\n",
    "* train имеет большую разнородность данных;\n",
    "* Распределение равномерное;\n",
    "* max: 10000; \n",
    "* min: 1.\n",
    "\n",
    "\n",
    "**garage:**\n",
    "\n",
    "* train убрали 5 выбросов/аномалий:\n",
    "    * 2 по верхней границе;\n",
    "    * 3 по нижней границе;\n",
    "* train имеет большую разнородность данных;\n",
    "* Распределение равномерное;\n",
    "* max: 1000; \n",
    "* min: 100.\n",
    "\n",
    "\n",
    "**has_storage_room:**\n",
    "\n",
    "* Доля True в train_true: 0.46;\n",
    "* Доля True в original: 0.5.\n",
    "\n",
    "\n",
    "**has_guest_room:**\n",
    "\n",
    "* Сгенерированный датасет имеет слегка скошенные данные вправо относительно ориганала;\n",
    "* train имеет большее количество значений 8;\n",
    "* original имеет равномерное распределение;\n",
    "* Медиана/среднее:\n",
    "    * train: 5/5.15;\n",
    "    * original: 5/5;\n",
    "* max: 10;\n",
    "* min: 0;\n",
    "* train имеет более разнородную структуру данных.\n",
    "\n",
    "\n",
    "**price:**\n",
    "\n",
    "* Сгенерированный датасет имеет слегка скошенные данные вправо относительно ориганала и имеет некую схожесть с распределением Пирсона;\n",
    "* original имеет равномерное распределение;\n",
    "* Медиана/среднее:\n",
    "    * train: 4450000/4634000;\n",
    "    * original: 5016000/4493000;\n",
    "* max: ~10000000;\n",
    "* min: ~10000;\n",
    "* train имеет более разнородную структуру данных."
   ]
  },
  {
   "cell_type": "markdown",
   "metadata": {},
   "source": [
    "**Выводы по test label**\n",
    "\n",
    "**square_meters:**\n",
    "\n",
    "* данные схожи по структуре;\n",
    "* аномалий нет.\n",
    "\n",
    "\n",
    "**number_of_rooms:**\n",
    "\n",
    "* данные схожи по структуре;\n",
    "* аномалий нет.\n",
    "\n",
    "\n",
    "**floors:**\n",
    "\n",
    "* данные схожи по структуре;\n",
    "* аномалий нет.\n",
    "\n",
    "\n",
    "**city_code:**\n",
    "\n",
    "* данные схожи по структуре;\n",
    "* выбросы есть в количестве 5:\n",
    "    * `test['city_code'] > 100000`\n",
    "\n",
    "\n",
    "**city_part_range:**\n",
    "\n",
    "* данные схожи по структуре;\n",
    "* выбросов нет.\n",
    "\n",
    "\n",
    "**num_prev_owners:**\n",
    "\n",
    "* данные схожи по структуре;\n",
    "* выбросов нет.\n",
    "\n",
    "\n",
    "**made:**\n",
    "\n",
    "* данные схожи по структуре;\n",
    "* выбросов нет.\n",
    "\n",
    "\n",
    "**basement:**\n",
    "\n",
    "* данные схожи по структуре;\n",
    "* есть 3 выброса:\n",
    "    * `test['basement'] > 10000`\n",
    "\n",
    "\n",
    "**attic:**\n",
    "\n",
    "* данные схожи по структуре;\n",
    "* есть 3 выброса:\n",
    "    * `test['attic'] > 10000`\n",
    "\n",
    "\n",
    "**garage:**\n",
    "\n",
    "* данные схожи по структуре;\n",
    "* есть 2 выброса по нижней границе:\n",
    "    * `test['garage'] < 100`\n",
    "\n",
    "\n",
    "**has_guest_room:**\n",
    "\n",
    "* данные схожи по структуре;\n",
    "* аномалий нет."
   ]
  },
  {
   "cell_type": "markdown",
   "metadata": {},
   "source": [
    "#### Выводы по EDA"
   ]
  },
  {
   "cell_type": "markdown",
   "metadata": {},
   "source": [
    "* Есть 2 набора данных для обучения:\n",
    "    * train с аномалиями;\n",
    "    * train_ true без аномалий;\n",
    "* test данные имеют 13 аномалий в:\n",
    "    * `'city_code', 'basement', 'attic', 'garage'`;\n",
    "* original данные имеют равномерно распределенные данные по сравнению с исскуственно сгенерированными;\n",
    "* Процент потерь данных: 0.14 %:\n",
    "    * Длина train данных: 22730;\n",
    "    * Длина train_true данных: 22699;\n",
    "* Длина test данных: 15154;\n",
    "* Длина original данных: 10000."
   ]
  },
  {
   "cell_type": "markdown",
   "metadata": {},
   "source": [
    "## Action plan"
   ]
  },
  {
   "cell_type": "markdown",
   "metadata": {},
   "source": [
    "0. Базово обучить модель и выбрать лучший вариант:\n",
    "    * train;\n",
    "    * train_true;\n",
    "    * train + original;\n",
    "    * train_true + original;\n",
    "0. Будем использовать разыные модели;\n",
    "0. Submissions are scored on the root mean squared error (RMSE);\n",
    "0. Изучить признаки на влияние модели и поработать с ними в поиске улучшения метрики;\n",
    "0. Провести различные тесты над данными."
   ]
  },
  {
   "cell_type": "code",
   "execution_count": null,
   "metadata": {},
   "outputs": [],
   "source": []
  }
 ],
 "metadata": {
  "kernelspec": {
   "display_name": "Python 3.9.12 ('base')",
   "language": "python",
   "name": "python3"
  },
  "language_info": {
   "codemirror_mode": {
    "name": "ipython",
    "version": 3
   },
   "file_extension": ".py",
   "mimetype": "text/x-python",
   "name": "python",
   "nbconvert_exporter": "python",
   "pygments_lexer": "ipython3",
   "version": "3.9.12"
  },
  "orig_nbformat": 4,
  "vscode": {
   "interpreter": {
    "hash": "ad2bdc8ecc057115af97d19610ffacc2b4e99fae6737bb82f5d7fb13d2f2c186"
   }
  }
 },
 "nbformat": 4,
 "nbformat_minor": 2
}
